{
 "cells": [
  {
   "cell_type": "code",
   "execution_count": 1,
   "outputs": [],
   "source": [
    "\n",
    "import plantuml\n",
    "from IPython.display import SVG, display\n",
    "import requests\n",
    "\n",
    "\n",
    "def show_plant(txt):\n",
    "    plnt_txt = plantuml.deflate_and_encode(txt)\n",
    "    uri = \"http://www.plantuml.com/plantuml/svg/\" + plnt_txt\n",
    "    htmldata = requests.get(uri)\n",
    "    svg_txt = htmldata.text\n",
    "    style_idx = svg_txt.find(\"style=\") + len(\"style=\") + 1\n",
    "    svg_txt = svg_txt[:style_idx]+\"background-color: white;\"+svg_txt[style_idx:]\n",
    "    display(SVG(svg_txt))"
   ],
   "metadata": {
    "collapsed": false,
    "pycharm": {
     "name": "#%%\n"
    }
   }
  },
  {
   "cell_type": "code",
   "execution_count": 4,
   "outputs": [
    {
     "data": {
      "text/plain": "<IPython.core.display.SVG object>",
      "image/svg+xml": "<svg xmlns=\"http://www.w3.org/2000/svg\" xmlns:xlink=\"http://www.w3.org/1999/xlink\" contentScriptType=\"application/ecmascript\" contentStyleType=\"text/css\" height=\"328px\" preserveAspectRatio=\"none\" style=\"background-color: white;width:649px;height:328px;background:#FFFFFF;\" version=\"1.1\" viewBox=\"0 0 649 328\" width=\"649px\" zoomAndPan=\"magnify\"><defs><filter height=\"300%\" id=\"f1d7plcgbvt54i\" width=\"300%\" x=\"-1\" y=\"-1\"><feGaussianBlur result=\"blurOut\" stdDeviation=\"2.0\"/><feColorMatrix in=\"blurOut\" result=\"blurOut2\" type=\"matrix\" values=\"0 0 0 0 0 0 0 0 0 0 0 0 0 0 0 0 0 0 .4 0\"/><feOffset dx=\"4.0\" dy=\"4.0\" in=\"blurOut2\" result=\"blurOut3\"/><feBlend in=\"SourceGraphic\" in2=\"blurOut3\" mode=\"normal\"/></filter></defs><g><text fill=\"#000000\" font-family=\"sans-serif\" font-size=\"18\" lengthAdjust=\"spacing\" textLength=\"97\" x=\"269.75\" y=\"16.708\">Dim Model</text><rect fill=\"#FEFECE\" filter=\"url(#f1d7plcgbvt54i)\" height=\"95.8125\" style=\"stroke:#A80036;stroke-width:1.5;\" width=\"132\" x=\"177\" y=\"33.4531\"/><text fill=\"#000000\" font-family=\"sans-serif\" font-size=\"12\" lengthAdjust=\"spacing\" textLength=\"67\" x=\"209.5\" y=\"46.5918\">Fact_Order</text><line style=\"stroke:#A80036;stroke-width:1.5;\" x1=\"178\" x2=\"308\" y1=\"51.4219\" y2=\"51.4219\"/><text fill=\"#000000\" font-family=\"sans-serif\" font-size=\"10\" lengthAdjust=\"spacing\" textLength=\"47\" x=\"183\" y=\"64.7041\">order_pk</text><text fill=\"#000000\" font-family=\"sans-serif\" font-size=\"10\" lengthAdjust=\"spacing\" textLength=\"40\" x=\"183\" y=\"76.3447\">time_tk</text><text fill=\"#000000\" font-family=\"sans-serif\" font-size=\"10\" lengthAdjust=\"spacing\" textLength=\"61\" x=\"183\" y=\"87.9854\">shipping_tk</text><text fill=\"#000000\" font-family=\"sans-serif\" font-size=\"10\" lengthAdjust=\"spacing\" textLength=\"59\" x=\"183\" y=\"99.626\">location_tk</text><text fill=\"#000000\" font-family=\"sans-serif\" font-size=\"10\" lengthAdjust=\"spacing\" textLength=\"89\" x=\"183\" y=\"111.2666\">order_item_total</text><text fill=\"#000000\" font-family=\"sans-serif\" font-size=\"10\" lengthAdjust=\"spacing\" textLength=\"120\" x=\"183\" y=\"122.9072\">order_profit_per_order</text><rect fill=\"#FEFECE\" filter=\"url(#f1d7plcgbvt54i)\" height=\"107.4531\" style=\"stroke:#A80036;stroke-width:1.5;\" width=\"122\" x=\"493\" y=\"27.9531\"/><text fill=\"#000000\" font-family=\"sans-serif\" font-size=\"12\" lengthAdjust=\"spacing\" textLength=\"57\" x=\"525.5\" y=\"41.0918\">Fact_Item</text><line style=\"stroke:#A80036;stroke-width:1.5;\" x1=\"494\" x2=\"614\" y1=\"45.9219\" y2=\"45.9219\"/><text fill=\"#000000\" font-family=\"sans-serif\" font-size=\"10\" lengthAdjust=\"spacing\" textLength=\"43\" x=\"499\" y=\"59.2041\">item_pk</text><text fill=\"#000000\" font-family=\"sans-serif\" font-size=\"10\" lengthAdjust=\"spacing\" textLength=\"40\" x=\"499\" y=\"70.8447\">time_tk</text><text fill=\"#000000\" font-family=\"sans-serif\" font-size=\"10\" lengthAdjust=\"spacing\" textLength=\"40\" x=\"499\" y=\"82.4854\">item_tk</text><text fill=\"#000000\" font-family=\"sans-serif\" font-size=\"10\" lengthAdjust=\"spacing\" textLength=\"110\" x=\"499\" y=\"94.126\">product_category_tk</text><text fill=\"#000000\" font-family=\"sans-serif\" font-size=\"10\" lengthAdjust=\"spacing\" textLength=\"46\" x=\"499\" y=\"105.7666\">discount</text><text fill=\"#000000\" font-family=\"sans-serif\" font-size=\"10\" lengthAdjust=\"spacing\" textLength=\"45\" x=\"499\" y=\"117.4072\">quantity</text><text fill=\"#000000\" font-family=\"sans-serif\" font-size=\"10\" lengthAdjust=\"spacing\" textLength=\"59\" x=\"499\" y=\"129.0479\">profit_ratio</text><rect fill=\"#FEFECE\" filter=\"url(#f1d7plcgbvt54i)\" height=\"49.25\" style=\"stroke:#A80036;stroke-width:1.5;\" width=\"114\" x=\"344\" y=\"56.9531\"/><text fill=\"#000000\" font-family=\"sans-serif\" font-size=\"12\" lengthAdjust=\"spacing\" textLength=\"100\" x=\"351\" y=\"70.0918\">Ref_Order_Items</text><line style=\"stroke:#A80036;stroke-width:1.5;\" x1=\"345\" x2=\"457\" y1=\"74.9219\" y2=\"74.9219\"/><text fill=\"#000000\" font-family=\"sans-serif\" font-size=\"10\" lengthAdjust=\"spacing\" textLength=\"47\" x=\"350\" y=\"88.2041\">order_pk</text><text fill=\"#000000\" font-family=\"sans-serif\" font-size=\"10\" lengthAdjust=\"spacing\" textLength=\"43\" x=\"350\" y=\"99.8447\">item_pk</text><rect fill=\"#FEFECE\" filter=\"url(#f1d7plcgbvt54i)\" height=\"60.8906\" style=\"stroke:#A80036;stroke-width:1.5;\" width=\"149\" x=\"486.5\" y=\"223.9531\"/><text fill=\"#000000\" font-family=\"sans-serif\" font-size=\"12\" lengthAdjust=\"spacing\" textLength=\"135\" x=\"493.5\" y=\"237.0918\">Dim_Product_Category</text><line style=\"stroke:#A80036;stroke-width:1.5;\" x1=\"487.5\" x2=\"634.5\" y1=\"241.9219\" y2=\"241.9219\"/><text fill=\"#000000\" font-family=\"sans-serif\" font-size=\"10\" lengthAdjust=\"spacing\" textLength=\"110\" x=\"492.5\" y=\"255.2041\">product_category_tk</text><text fill=\"#000000\" font-family=\"sans-serif\" font-size=\"10\" lengthAdjust=\"spacing\" textLength=\"79\" x=\"492.5\" y=\"266.8447\">product_name</text><text fill=\"#000000\" font-family=\"sans-serif\" font-size=\"10\" lengthAdjust=\"spacing\" textLength=\"95\" x=\"492.5\" y=\"278.4854\">product_category</text><rect fill=\"#FEFECE\" filter=\"url(#f1d7plcgbvt54i)\" height=\"119.0938\" style=\"stroke:#A80036;stroke-width:1.5;\" width=\"116\" x=\"7\" y=\"194.9531\"/><text fill=\"#000000\" font-family=\"sans-serif\" font-size=\"12\" lengthAdjust=\"spacing\" textLength=\"79\" x=\"25.5\" y=\"208.0918\">Dim_Location</text><line style=\"stroke:#A80036;stroke-width:1.5;\" x1=\"8\" x2=\"122\" y1=\"212.9219\" y2=\"212.9219\"/><text fill=\"#000000\" font-family=\"sans-serif\" font-size=\"10\" lengthAdjust=\"spacing\" textLength=\"59\" x=\"13\" y=\"226.2041\">location_tk</text><text fill=\"#000000\" font-family=\"sans-serif\" font-size=\"10\" lengthAdjust=\"spacing\" textLength=\"102\" x=\"13\" y=\"237.8447\">department_name</text><text fill=\"#000000\" font-family=\"sans-serif\" font-size=\"10\" lengthAdjust=\"spacing\" textLength=\"39\" x=\"13\" y=\"249.4854\">market</text><text fill=\"#000000\" font-family=\"sans-serif\" font-size=\"10\" lengthAdjust=\"spacing\" textLength=\"69\" x=\"13\" y=\"261.126\">order_region</text><text fill=\"#000000\" font-family=\"sans-serif\" font-size=\"10\" lengthAdjust=\"spacing\" textLength=\"61\" x=\"13\" y=\"272.7666\">order_state</text><text fill=\"#000000\" font-family=\"sans-serif\" font-size=\"10\" lengthAdjust=\"spacing\" textLength=\"104\" x=\"13\" y=\"284.4072\">customer_segment</text><text fill=\"#000000\" font-family=\"sans-serif\" font-size=\"10\" lengthAdjust=\"spacing\" textLength=\"97\" x=\"13\" y=\"296.0479\">customer_country</text><text fill=\"#000000\" font-family=\"sans-serif\" font-size=\"10\" lengthAdjust=\"spacing\" textLength=\"75\" x=\"13\" y=\"307.6885\">customer_city</text><rect fill=\"#FEFECE\" filter=\"url(#f1d7plcgbvt54i)\" height=\"60.8906\" style=\"stroke:#A80036;stroke-width:1.5;\" width=\"88\" x=\"363\" y=\"223.9531\"/><text fill=\"#000000\" font-family=\"sans-serif\" font-size=\"12\" lengthAdjust=\"spacing\" textLength=\"58\" x=\"378\" y=\"237.0918\">Dim_Time</text><line style=\"stroke:#A80036;stroke-width:1.5;\" x1=\"364\" x2=\"450\" y1=\"241.9219\" y2=\"241.9219\"/><text fill=\"#000000\" font-family=\"sans-serif\" font-size=\"10\" lengthAdjust=\"spacing\" textLength=\"40\" x=\"369\" y=\"255.2041\">time_tk</text><text fill=\"#000000\" font-family=\"sans-serif\" font-size=\"10\" lengthAdjust=\"spacing\" textLength=\"59\" x=\"369\" y=\"266.8447\">order_date</text><text fill=\"#000000\" font-family=\"sans-serif\" font-size=\"10\" lengthAdjust=\"spacing\" textLength=\"76\" x=\"369\" y=\"278.4854\">shipping_date</text><rect fill=\"#FEFECE\" filter=\"url(#f1d7plcgbvt54i)\" height=\"84.1719\" style=\"stroke:#A80036;stroke-width:1.5;\" width=\"169\" x=\"158.5\" y=\"212.4531\"/><text fill=\"#000000\" font-family=\"sans-serif\" font-size=\"12\" lengthAdjust=\"spacing\" textLength=\"81\" x=\"202.5\" y=\"225.5918\">Dim_Shipping</text><line style=\"stroke:#A80036;stroke-width:1.5;\" x1=\"159.5\" x2=\"326.5\" y1=\"230.4219\" y2=\"230.4219\"/><text fill=\"#000000\" font-family=\"sans-serif\" font-size=\"10\" lengthAdjust=\"spacing\" textLength=\"61\" x=\"164.5\" y=\"243.7041\">shipping_tk</text><text fill=\"#000000\" font-family=\"sans-serif\" font-size=\"10\" lengthAdjust=\"spacing\" textLength=\"83\" x=\"164.5\" y=\"255.3447\">shipping_mode</text><text fill=\"#000000\" font-family=\"sans-serif\" font-size=\"10\" lengthAdjust=\"spacing\" textLength=\"122\" x=\"164.5\" y=\"266.9854\">days_for_shipping_real</text><text fill=\"#000000\" font-family=\"sans-serif\" font-size=\"10\" lengthAdjust=\"spacing\" textLength=\"157\" x=\"164.5\" y=\"278.626\">days_for_shipping_scheduled</text><text fill=\"#000000\" font-family=\"sans-serif\" font-size=\"10\" lengthAdjust=\"spacing\" textLength=\"92\" x=\"164.5\" y=\"290.2666\">late_delivery_risk</text><!--MD5=[8f17ff8c33eec6717235244300ced929]\nlink Fact_Order to Dim_Location--><path codeLine=\"61\" d=\"M193.89,129.6321 C171.971,150.6891 145.983,175.6551 123.104,197.6341 \" fill=\"none\" id=\"Fact_Order-Dim_Location\" style=\"stroke:#A80036;stroke-width:1.0;\"/><!--MD5=[924539d0d2d332d520df8079b3c0ff69]\nlink Fact_Order to Dim_Time--><path codeLine=\"62\" d=\"M288.248,129.6321 C317.165,159.7841 353.771,197.9521 378.643,223.886 \" fill=\"none\" id=\"Fact_Order-Dim_Time\" style=\"stroke:#A80036;stroke-width:1.0;\"/><!--MD5=[56ef366ea1d88dc428c91c2ec9f5dc66]\nlink Fact_Order to Dim_Shipping--><path codeLine=\"63\" d=\"M243,129.6321 C243,155.5331 243,187.3491 243,212.2441 \" fill=\"none\" id=\"Fact_Order-Dim_Shipping\" style=\"stroke:#A80036;stroke-width:1.0;\"/><!--MD5=[5ab587f789049d4e54bb1ca232ab5e9d]\nlink Fact_Order to Ref_Order_Items--><path codeLine=\"65\" d=\"M309.039,81.4531 C320.654,81.4531 332.269,81.4531 343.884,81.4531 \" fill=\"none\" id=\"Fact_Order-Ref_Order_Items\" style=\"stroke:#A80036;stroke-width:1.0;\"/><!--MD5=[4e10f3aee7be8b50c9131696e1a6378b]\nlink Ref_Order_Items to Fact_Item--><path codeLine=\"66\" d=\"M458.076,81.4531 C469.692,81.4531 481.308,81.4531 492.924,81.4531 \" fill=\"none\" id=\"Ref_Order_Items-Fact_Item\" style=\"stroke:#A80036;stroke-width:1.0;\"/><!--MD5=[b03f45c6fbf58ff33dfeab9b2ce30a05]\nlink Fact_Item to Dim_Product_Category--><path codeLine=\"69\" d=\"M556.157,135.1541 C557.346,164.2011 558.779,199.2011 559.776,223.5633 \" fill=\"none\" id=\"Fact_Item-Dim_Product_Category\" style=\"stroke:#A80036;stroke-width:1.0;\"/><!--MD5=[54bc036e8a530eb9daa833429c00780d]\nlink Fact_Item to Dim_Time--><path codeLine=\"70\" d=\"M508.696,135.1541 C483.725,164.2011 453.637,199.2011 432.695,223.5633 \" fill=\"none\" id=\"Fact_Item-Dim_Time\" style=\"stroke:#A80036;stroke-width:1.0;\"/><!--MD5=[b1db60debe7a0353a4bb07034f87dd37]\n@startuml\ntitle Dim Model\n\n\nobject Fact_Order {\n    order_pk\n    time_tk\n    shipping_tk\n    location_tk\n    order_item_total\n    order_profit_per_order\n}\n\nobject Fact_Item {\n    item_pk\n    time_tk\n    item_tk\n    product_category_tk\n    discount\n    quantity\n    profit_ratio\n}\n\nobject Ref_Order_Items {\n    order_pk\n    item_pk\n}\n\n\nobject Dim_Product_Category {\n    product_category_tk\n    product_name\n    product_category\n}\n\nobject Dim_Location {\n    location_tk\n    department_name\n    market\n    order_region\n    order_state\n    customer_segment\n    customer_country\n    customer_city\n}\n\nobject Dim_Time {\n    time_tk\n    order_date\n    shipping_date\n}\n\nobject Dim_Shipping {\n    shipping_tk\n    shipping_mode\n    days_for_shipping_real\n    days_for_shipping_scheduled\n    late_delivery_risk\n}\n\n\nFact_Order -d- Dim_Location\nFact_Order -d- Dim_Time\nFact_Order -d- Dim_Shipping\n\nFact_Order -r- Ref_Order_Items\nRef_Order_Items -r- Fact_Item\n\n\nFact_Item -d- Dim_Product_Category\nFact_Item -d- Dim_Time\n@enduml\n\nPlantUML version 1.2021.6beta6(Unknown compile time)\n(GPL source distribution)\nJava Runtime: Java(TM) SE Runtime Environment\nJVM: Java HotSpot(TM) 64-Bit Server VM\nDefault Encoding: UTF-8\nLanguage: en\nCountry: US\n--></g></svg>"
     },
     "metadata": {},
     "output_type": "display_data"
    }
   ],
   "source": [
    "txt = \"\"\"\n",
    "title Dim Model\n",
    "\n",
    "\n",
    "object Fact_Order {\n",
    "    order_pk\n",
    "    time_tk\n",
    "    shipping_tk\n",
    "    location_tk\n",
    "    order_item_total\n",
    "    order_profit_per_order\n",
    "}\n",
    "\n",
    "object Fact_Item {\n",
    "    item_pk\n",
    "    time_tk\n",
    "    item_tk\n",
    "    product_category_tk\n",
    "    discount\n",
    "    quantity\n",
    "    profit_ratio\n",
    "}\n",
    "\n",
    "object Ref_Order_Items {\n",
    "    order_pk\n",
    "    item_pk\n",
    "}\n",
    "\n",
    "\n",
    "object Dim_Product_Category {\n",
    "    product_category_tk\n",
    "    product_name\n",
    "    product_category\n",
    "}\n",
    "\n",
    "object Dim_Location {\n",
    "    location_tk\n",
    "    department_name\n",
    "    market\n",
    "    order_region\n",
    "    order_state\n",
    "    customer_segment\n",
    "    customer_country\n",
    "    customer_city\n",
    "}\n",
    "\n",
    "object Dim_Time {\n",
    "    time_tk\n",
    "    order_date\n",
    "    shipping_date\n",
    "}\n",
    "\n",
    "object Dim_Shipping {\n",
    "    shipping_tk\n",
    "    shipping_mode\n",
    "    days_for_shipping_real\n",
    "    days_for_shipping_scheduled\n",
    "    late_delivery_risk\n",
    "}\n",
    "\n",
    "\n",
    "Fact_Order -d- Dim_Location\n",
    "Fact_Order -d- Dim_Time\n",
    "Fact_Order -d- Dim_Shipping\n",
    "\n",
    "Fact_Order -r- Ref_Order_Items\n",
    "Ref_Order_Items -r- Fact_Item\n",
    "\n",
    "\n",
    "Fact_Item -d- Dim_Product_Category\n",
    "Fact_Item -d- Dim_Time\n",
    "\n",
    " \"\"\"\n",
    "\n",
    "\n",
    "\n",
    "show_plant(txt)"
   ],
   "metadata": {
    "collapsed": false,
    "pycharm": {
     "name": "#%%\n"
    }
   }
  }
 ],
 "metadata": {
  "kernelspec": {
   "display_name": "Python 3",
   "language": "python",
   "name": "python3"
  },
  "language_info": {
   "codemirror_mode": {
    "name": "ipython",
    "version": 2
   },
   "file_extension": ".py",
   "mimetype": "text/x-python",
   "name": "python",
   "nbconvert_exporter": "python",
   "pygments_lexer": "ipython2",
   "version": "2.7.6"
  }
 },
 "nbformat": 4,
 "nbformat_minor": 0
}
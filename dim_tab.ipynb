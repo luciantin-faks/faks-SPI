{
 "cells": [
  {
   "cell_type": "markdown",
   "metadata": {
    "collapsed": true,
    "pycharm": {
     "name": "#%% md\n"
    }
   },
   "source": [
    "# Problem ?\n",
    "\n",
    "- prodajem proizvode u razlicitim trgovinama u razlicitim mjestima i mjerim ostvarene rezultate kroz vrijeme ?\n",
    "\n",
    "- Poslovni proces :\n",
    " - Prodaja tih gluposti\n",
    "- Granularnost :\n",
    " - individualne transakcije\n",
    "- Dimenzije :\n",
    " - Who : Customer\n",
    " - What : Product\n",
    " - Where : Locations\n",
    " - How : Shipping\n",
    " - When : Time"
   ]
  },
  {
   "cell_type": "code",
   "execution_count": 1,
   "outputs": [],
   "source": [
    "\n",
    "import plantuml\n",
    "from IPython.display import SVG, display\n",
    "import requests\n",
    "\n",
    "\n",
    "def show_plant(txt):\n",
    "    plnt_txt = plantuml.deflate_and_encode(txt)\n",
    "    uri = \"http://www.plantuml.com/plantuml/svg/\" + plnt_txt\n",
    "    htmldata = requests.get(uri)\n",
    "    svg_txt = htmldata.text\n",
    "    style_idx = svg_txt.find(\"style=\") + len(\"style=\") + 1\n",
    "    svg_txt = svg_txt[:style_idx]+\"background-color: white;\"+svg_txt[style_idx:]\n",
    "    display(SVG(svg_txt))"
   ],
   "metadata": {
    "collapsed": false,
    "pycharm": {
     "name": "#%%\n"
    }
   }
  },
  {
   "cell_type": "code",
   "execution_count": 14,
   "outputs": [
    {
     "data": {
      "text/plain": "<IPython.core.display.SVG object>",
      "image/svg+xml": "<svg xmlns=\"http://www.w3.org/2000/svg\" xmlns:xlink=\"http://www.w3.org/1999/xlink\" contentScriptType=\"application/ecmascript\" contentStyleType=\"text/css\" height=\"258px\" preserveAspectRatio=\"none\" style=\"background-color: white;width:863px;height:258px;\" version=\"1.1\" viewBox=\"0 0 863 258\" width=\"863px\" zoomAndPan=\"magnify\"><defs><filter height=\"300%\" id=\"ferheqp8osctx\" width=\"300%\" x=\"-1\" y=\"-1\"><feGaussianBlur result=\"blurOut\" stdDeviation=\"2.0\"/><feColorMatrix in=\"blurOut\" result=\"blurOut2\" type=\"matrix\" values=\"0 0 0 0 0 0 0 0 0 0 0 0 0 0 0 0 0 0 .4 0\"/><feOffset dx=\"4.0\" dy=\"4.0\" in=\"blurOut2\" result=\"blurOut3\"/><feBlend in=\"SourceGraphic\" in2=\"blurOut3\" mode=\"normal\"/></filter></defs><g><text fill=\"#000000\" font-family=\"sans-serif\" font-size=\"18\" lengthAdjust=\"spacing\" textLength=\"97\" x=\"376.75\" y=\"16.708\">Dim Model</text><rect fill=\"#FEFECE\" filter=\"url(#ferheqp8osctx)\" height=\"49.25\" style=\"stroke:#A80036;stroke-width:1.5;\" width=\"132\" x=\"362\" y=\"27.9531\"/><text fill=\"#000000\" font-family=\"sans-serif\" font-size=\"12\" lengthAdjust=\"spacing\" textLength=\"67\" x=\"394.5\" y=\"41.0918\">Fact_Order</text><line style=\"stroke:#A80036;stroke-width:1.5;\" x1=\"363\" x2=\"493\" y1=\"45.9219\" y2=\"45.9219\"/><text fill=\"#000000\" font-family=\"sans-serif\" font-size=\"10\" lengthAdjust=\"spacing\" textLength=\"89\" x=\"368\" y=\"59.2041\">order_item_total</text><text fill=\"#000000\" font-family=\"sans-serif\" font-size=\"10\" lengthAdjust=\"spacing\" textLength=\"120\" x=\"368\" y=\"70.8447\">order_profit_per_order</text><rect fill=\"#FEFECE\" filter=\"url(#ferheqp8osctx)\" height=\"84.1719\" style=\"stroke:#A80036;stroke-width:1.5;\" width=\"134\" x=\"7\" y=\"148.4531\"/><text fill=\"#000000\" font-family=\"sans-serif\" font-size=\"12\" lengthAdjust=\"spacing\" textLength=\"120\" x=\"14\" y=\"161.5918\">Dim_Who_Customer</text><line style=\"stroke:#A80036;stroke-width:1.5;\" x1=\"8\" x2=\"140\" y1=\"166.4219\" y2=\"166.4219\"/><text fill=\"#000000\" font-family=\"sans-serif\" font-size=\"10\" lengthAdjust=\"spacing\" textLength=\"36\" x=\"13\" y=\"179.7041\">fname</text><text fill=\"#000000\" font-family=\"sans-serif\" font-size=\"10\" lengthAdjust=\"spacing\" textLength=\"35\" x=\"13\" y=\"191.3447\">lname</text><text fill=\"#000000\" font-family=\"sans-serif\" font-size=\"10\" lengthAdjust=\"spacing\" textLength=\"48\" x=\"13\" y=\"202.9854\">segment</text><text fill=\"#000000\" font-family=\"sans-serif\" font-size=\"10\" lengthAdjust=\"spacing\" textLength=\"97\" x=\"13\" y=\"214.626\">customer_country</text><text fill=\"#000000\" font-family=\"sans-serif\" font-size=\"10\" lengthAdjust=\"spacing\" textLength=\"75\" x=\"13\" y=\"226.2666\">customer_city</text><rect fill=\"#FEFECE\" filter=\"url(#ferheqp8osctx)\" height=\"107.4531\" style=\"stroke:#A80036;stroke-width:1.5;\" width=\"147\" x=\"176.5\" y=\"136.9531\"/><text fill=\"#000000\" font-family=\"sans-serif\" font-size=\"12\" lengthAdjust=\"spacing\" textLength=\"133\" x=\"183.5\" y=\"150.0918\">Dim_What_Order_Item</text><line style=\"stroke:#A80036;stroke-width:1.5;\" x1=\"177.5\" x2=\"322.5\" y1=\"154.9219\" y2=\"154.9219\"/><text fill=\"#000000\" font-family=\"sans-serif\" font-size=\"10\" lengthAdjust=\"spacing\" textLength=\"79\" x=\"182.5\" y=\"168.2041\">product_name</text><text fill=\"#000000\" font-family=\"sans-serif\" font-size=\"10\" lengthAdjust=\"spacing\" textLength=\"95\" x=\"182.5\" y=\"179.8447\">product_category</text><text fill=\"#000000\" font-family=\"sans-serif\" font-size=\"10\" lengthAdjust=\"spacing\" textLength=\"74\" x=\"182.5\" y=\"191.4854\">product_price</text><text fill=\"#000000\" font-family=\"sans-serif\" font-size=\"10\" lengthAdjust=\"spacing\" textLength=\"79\" x=\"182.5\" y=\"203.126\">product_status</text><text fill=\"#000000\" font-family=\"sans-serif\" font-size=\"10\" lengthAdjust=\"spacing\" textLength=\"46\" x=\"182.5\" y=\"214.7666\">discount</text><text fill=\"#000000\" font-family=\"sans-serif\" font-size=\"10\" lengthAdjust=\"spacing\" textLength=\"45\" x=\"182.5\" y=\"226.4072\">quantity</text><text fill=\"#000000\" font-family=\"sans-serif\" font-size=\"10\" lengthAdjust=\"spacing\" textLength=\"59\" x=\"182.5\" y=\"238.0479\">profit_ratio</text><rect fill=\"#FEFECE\" filter=\"url(#ferheqp8osctx)\" height=\"95.8125\" style=\"stroke:#A80036;stroke-width:1.5;\" width=\"139\" x=\"358.5\" y=\"142.4531\"/><text fill=\"#000000\" font-family=\"sans-serif\" font-size=\"12\" lengthAdjust=\"spacing\" textLength=\"125\" x=\"365.5\" y=\"155.5918\">Dim_Where_Location</text><line style=\"stroke:#A80036;stroke-width:1.5;\" x1=\"359.5\" x2=\"496.5\" y1=\"160.4219\" y2=\"160.4219\"/><text fill=\"#000000\" font-family=\"sans-serif\" font-size=\"10\" lengthAdjust=\"spacing\" textLength=\"102\" x=\"364.5\" y=\"173.7041\">department_name</text><text fill=\"#000000\" font-family=\"sans-serif\" font-size=\"10\" lengthAdjust=\"spacing\" textLength=\"39\" x=\"364.5\" y=\"185.3447\">market</text><text fill=\"#000000\" font-family=\"sans-serif\" font-size=\"10\" lengthAdjust=\"spacing\" textLength=\"35\" x=\"364.5\" y=\"196.9854\">region</text><text fill=\"#000000\" font-family=\"sans-serif\" font-size=\"10\" lengthAdjust=\"spacing\" textLength=\"27\" x=\"364.5\" y=\"208.626\">state</text><text fill=\"#000000\" font-family=\"sans-serif\" font-size=\"10\" lengthAdjust=\"spacing\" textLength=\"48\" x=\"364.5\" y=\"220.2666\">latitude?</text><text fill=\"#000000\" font-family=\"sans-serif\" font-size=\"10\" lengthAdjust=\"spacing\" textLength=\"58\" x=\"364.5\" y=\"231.9072\">longitude?</text><rect fill=\"#FEFECE\" filter=\"url(#ferheqp8osctx)\" height=\"49.25\" style=\"stroke:#A80036;stroke-width:1.5;\" width=\"112\" x=\"533\" y=\"165.9531\"/><text fill=\"#000000\" font-family=\"sans-serif\" font-size=\"12\" lengthAdjust=\"spacing\" textLength=\"98\" x=\"540\" y=\"179.0918\">Dim_When_Time</text><line style=\"stroke:#A80036;stroke-width:1.5;\" x1=\"534\" x2=\"644\" y1=\"183.9219\" y2=\"183.9219\"/><text fill=\"#000000\" font-family=\"sans-serif\" font-size=\"10\" lengthAdjust=\"spacing\" textLength=\"59\" x=\"539\" y=\"197.2041\">order_date</text><text fill=\"#000000\" font-family=\"sans-serif\" font-size=\"10\" lengthAdjust=\"spacing\" textLength=\"76\" x=\"539\" y=\"208.8447\">shipping_date</text><rect fill=\"#FEFECE\" filter=\"url(#ferheqp8osctx)\" height=\"95.8125\" style=\"stroke:#A80036;stroke-width:1.5;\" width=\"169\" x=\"680.5\" y=\"142.4531\"/><text fill=\"#000000\" font-family=\"sans-serif\" font-size=\"12\" lengthAdjust=\"spacing\" textLength=\"114\" x=\"708\" y=\"155.5918\">Dim_How_Shipping</text><line style=\"stroke:#A80036;stroke-width:1.5;\" x1=\"681.5\" x2=\"848.5\" y1=\"160.4219\" y2=\"160.4219\"/><text fill=\"#000000\" font-family=\"sans-serif\" font-size=\"10\" lengthAdjust=\"spacing\" textLength=\"83\" x=\"686.5\" y=\"173.7041\">shipping_mode</text><text fill=\"#000000\" font-family=\"sans-serif\" font-size=\"10\" lengthAdjust=\"spacing\" textLength=\"122\" x=\"686.5\" y=\"185.3447\">days_for_shipping_real</text><text fill=\"#000000\" font-family=\"sans-serif\" font-size=\"10\" lengthAdjust=\"spacing\" textLength=\"157\" x=\"686.5\" y=\"196.9854\">days_for_shipping_scheduled</text><text fill=\"#000000\" font-family=\"sans-serif\" font-size=\"10\" lengthAdjust=\"spacing\" textLength=\"92\" x=\"686.5\" y=\"208.626\">late_delivery_risk</text><text fill=\"#000000\" font-family=\"sans-serif\" font-size=\"10\" lengthAdjust=\"spacing\" textLength=\"107\" x=\"686.5\" y=\"220.2666\">destination_country</text><text fill=\"#000000\" font-family=\"sans-serif\" font-size=\"10\" lengthAdjust=\"spacing\" textLength=\"85\" x=\"686.5\" y=\"231.9072\">destination_city</text><!--MD5=[7ffd14a6e54a1b4c3250a594869c9941]\nlink Fact_Order to Dim_Who_Customer--><path codeLine=\"50\" d=\"M361.894,68.9881 C306.369,83.2001 225.648,106.6171 159,136.9531 C151.58,140.3301 144.02,144.2369 136.621,148.3649 \" fill=\"none\" id=\"Fact_Order-Dim_Who_Customer\" style=\"stroke:#A80036;stroke-width:1.0;\"/><!--MD5=[f2336d2d13b1fecc454f38f95f798284]\nlink Fact_Order to Dim_What_Order_Item--><path codeLine=\"51\" d=\"M396.995,77.1421 C375.48,93.5811 345.956,116.1381 319.011,136.7261 \" fill=\"none\" id=\"Fact_Order-Dim_What_Order_Item\" style=\"stroke:#A80036;stroke-width:1.0;\"/><!--MD5=[1cdeaf2faaca4e6b3e1528a7f71faf75]\nlink Fact_Order to Dim_Where_Location--><path codeLine=\"52\" d=\"M428,77.1421 C428,95.1031 428,120.3681 428,142.3881 \" fill=\"none\" id=\"Fact_Order-Dim_Where_Location\" style=\"stroke:#A80036;stroke-width:1.0;\"/><!--MD5=[66ba27e063abece5db2f68cef815d351]\nlink Fact_Order to Dim_When_Time--><path codeLine=\"53\" d=\"M456.044,77.1421 C485.504,102.0281 531.567,140.9381 561.008,165.8074 \" fill=\"none\" id=\"Fact_Order-Dim_When_Time\" style=\"stroke:#A80036;stroke-width:1.0;\"/><!--MD5=[5563fd1f9094e4182ad3f6b753136251]\nlink Fact_Order to Dim_How_Shipping--><path codeLine=\"54\" d=\"M494.249,74.3541 C541.837,90.0031 607.169,112.7951 663,136.9531 C668.666,139.4051 674.456,142.0331 680.256,144.7581 \" fill=\"none\" id=\"Fact_Order-Dim_How_Shipping\" style=\"stroke:#A80036;stroke-width:1.0;\"/><!--MD5=[c9e7bdbc4e86feb51100edac1ade4d6d]\n@startuml\ntitle Dim Model\n\n\nobject Fact_Order {\n    order_item_total\n    order_profit_per_order\n}\n\nobject Dim_Who_Customer {\n    fname\n    lname\n    segment\n    customer_country\n    customer_city\n}\n\nobject Dim_What_Order_Item {\n    product_name\n    product_category\n    product_price\n    product_status\n    discount\n    quantity\n    profit_ratio\n}\n\nobject Dim_Where_Location {\n    department_name\n    market\n    region\n    state\n    latitude?\n    longitude?\n}\n\nobject Dim_When_Time {\n    order_date\n    shipping_date\n}\n\nobject Dim_How_Shipping {\n    shipping_mode\n    days_for_shipping_real\n    days_for_shipping_scheduled\n    late_delivery_risk\n    destination_country\n    destination_city\n}\n\nFact_Order - - Dim_Who_Customer\nFact_Order - - Dim_What_Order_Item\nFact_Order - - Dim_Where_Location\nFact_Order - - Dim_When_Time\nFact_Order - - Dim_How_Shipping\n@enduml\n\nPlantUML version 1.2021.3beta7(Unknown compile time)\n(GPL source distribution)\nJava Runtime: Java(TM) SE Runtime Environment\nJVM: Java HotSpot(TM) 64-Bit Server VM\nDefault Encoding: UTF-8\nLanguage: en\nCountry: US\n--></g></svg>"
     },
     "metadata": {},
     "output_type": "display_data"
    }
   ],
   "source": [
    "txt = \"\"\"\n",
    "title Dim Model\n",
    "\n",
    "\n",
    "object Fact_Order {\n",
    "    order_item_total\n",
    "    order_profit_per_order\n",
    "}\n",
    "\n",
    "object Dim_Who_Customer {\n",
    "    fname\n",
    "    lname\n",
    "    segment\n",
    "    customer_country\n",
    "    customer_city\n",
    "}\n",
    "\n",
    "object Dim_What_Order_Item {\n",
    "    product_name\n",
    "    product_category\n",
    "    product_price\n",
    "    product_status\n",
    "    discount\n",
    "    quantity\n",
    "    profit_ratio\n",
    "}\n",
    "\n",
    "object Dim_Where_Location {\n",
    "    department_name\n",
    "    market\n",
    "    region\n",
    "    state\n",
    "    latitude?\n",
    "    longitude?\n",
    "}\n",
    "\n",
    "object Dim_When_Time {\n",
    "    order_date\n",
    "    shipping_date\n",
    "}\n",
    "\n",
    "object Dim_How_Shipping {\n",
    "    shipping_mode\n",
    "    days_for_shipping_real\n",
    "    days_for_shipping_scheduled\n",
    "    late_delivery_risk\n",
    "    destination_country\n",
    "    destination_city\n",
    "}\n",
    "\n",
    "Fact_Order -- Dim_Who_Customer\n",
    "Fact_Order -- Dim_What_Order_Item\n",
    "Fact_Order -- Dim_Where_Location\n",
    "Fact_Order -- Dim_When_Time\n",
    "Fact_Order -- Dim_How_Shipping\n",
    "\n",
    " \"\"\"\n",
    "\n",
    "\n",
    "\n",
    "show_plant(txt)"
   ],
   "metadata": {
    "collapsed": false,
    "pycharm": {
     "name": "#%%\n"
    }
   }
  }
 ],
 "metadata": {
  "kernelspec": {
   "display_name": "Python 3",
   "language": "python",
   "name": "python3"
  },
  "language_info": {
   "codemirror_mode": {
    "name": "ipython",
    "version": 2
   },
   "file_extension": ".py",
   "mimetype": "text/x-python",
   "name": "python",
   "nbconvert_exporter": "python",
   "pygments_lexer": "ipython2",
   "version": "2.7.6"
  }
 },
 "nbformat": 4,
 "nbformat_minor": 0
}
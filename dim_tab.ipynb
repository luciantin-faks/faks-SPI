{
 "cells": [
  {
   "cell_type": "code",
   "execution_count": 5,
   "outputs": [],
   "source": [
    "\n",
    "import plantuml\n",
    "from IPython.display import SVG, display\n",
    "import requests\n",
    "\n",
    "\n",
    "def show_plant(txt):\n",
    "    plnt_txt = plantuml.deflate_and_encode(txt)\n",
    "    uri = \"http://www.plantuml.com/plantuml/svg/\" + plnt_txt\n",
    "    htmldata = requests.get(uri)\n",
    "    svg_txt = htmldata.text\n",
    "    style_idx = svg_txt.find(\"style=\") + len(\"style=\") + 1\n",
    "    svg_txt = svg_txt[:style_idx]+\"background-color: white;\"+svg_txt[style_idx:]\n",
    "    display(SVG(svg_txt))"
   ],
   "metadata": {
    "collapsed": false,
    "pycharm": {
     "name": "#%%\n"
    }
   }
  },
  {
   "cell_type": "code",
   "execution_count": 17,
   "outputs": [
    {
     "data": {
      "text/plain": "<IPython.core.display.SVG object>",
      "image/svg+xml": "<svg xmlns=\"http://www.w3.org/2000/svg\" xmlns:xlink=\"http://www.w3.org/1999/xlink\" contentScriptType=\"application/ecmascript\" contentStyleType=\"text/css\" height=\"246px\" preserveAspectRatio=\"none\" style=\"background-color: white;width:951px;height:246px;\" version=\"1.1\" viewBox=\"0 0 951 246\" width=\"951px\" zoomAndPan=\"magnify\"><defs><filter height=\"300%\" id=\"f13zxo92kt5ezr\" width=\"300%\" x=\"-1\" y=\"-1\"><feGaussianBlur result=\"blurOut\" stdDeviation=\"2.0\"/><feColorMatrix in=\"blurOut\" result=\"blurOut2\" type=\"matrix\" values=\"0 0 0 0 0 0 0 0 0 0 0 0 0 0 0 0 0 0 .4 0\"/><feOffset dx=\"4.0\" dy=\"4.0\" in=\"blurOut2\" result=\"blurOut3\"/><feBlend in=\"SourceGraphic\" in2=\"blurOut3\" mode=\"normal\"/></filter></defs><g><text fill=\"#000000\" font-family=\"sans-serif\" font-size=\"18\" lengthAdjust=\"spacing\" textLength=\"97\" x=\"420.5\" y=\"16.708\">Dim Model</text><rect fill=\"#FEFECE\" filter=\"url(#f13zxo92kt5ezr)\" height=\"49.25\" style=\"stroke:#A80036;stroke-width:1.5;\" width=\"132\" x=\"339.5\" y=\"27.9531\"/><text fill=\"#000000\" font-family=\"sans-serif\" font-size=\"12\" lengthAdjust=\"spacing\" textLength=\"105\" x=\"353\" y=\"41.0918\">Fact_Head_Order</text><line style=\"stroke:#A80036;stroke-width:1.5;\" x1=\"340.5\" x2=\"470.5\" y1=\"45.9219\" y2=\"45.9219\"/><text fill=\"#000000\" font-family=\"sans-serif\" font-size=\"10\" lengthAdjust=\"spacing\" textLength=\"89\" x=\"345.5\" y=\"59.2041\">order_item_total</text><text fill=\"#000000\" font-family=\"sans-serif\" font-size=\"10\" lengthAdjust=\"spacing\" textLength=\"120\" x=\"345.5\" y=\"70.8447\">order_profit_per_order</text><rect fill=\"#FEFECE\" filter=\"url(#f13zxo92kt5ezr)\" height=\"33.9688\" style=\"stroke:#A80036;stroke-width:1.5;\" width=\"113\" x=\"578\" y=\"35.4531\"/><text fill=\"#000000\" font-family=\"sans-serif\" font-size=\"12\" lengthAdjust=\"spacing\" textLength=\"99\" x=\"585\" y=\"48.5918\">Fact_Order_Item</text><line style=\"stroke:#A80036;stroke-width:1.5;\" x1=\"579\" x2=\"690\" y1=\"53.4219\" y2=\"53.4219\"/><rect fill=\"#FEFECE\" filter=\"url(#f13zxo92kt5ezr)\" height=\"84.1719\" style=\"stroke:#A80036;stroke-width:1.5;\" width=\"109\" x=\"7\" y=\"142.9531\"/><text fill=\"#000000\" font-family=\"sans-serif\" font-size=\"12\" lengthAdjust=\"spacing\" textLength=\"87\" x=\"18\" y=\"156.0918\">Dim_Customer</text><line style=\"stroke:#A80036;stroke-width:1.5;\" x1=\"8\" x2=\"115\" y1=\"160.9219\" y2=\"160.9219\"/><text fill=\"#000000\" font-family=\"sans-serif\" font-size=\"10\" lengthAdjust=\"spacing\" textLength=\"36\" x=\"13\" y=\"174.2041\">fname</text><text fill=\"#000000\" font-family=\"sans-serif\" font-size=\"10\" lengthAdjust=\"spacing\" textLength=\"35\" x=\"13\" y=\"185.8447\">lname</text><text fill=\"#000000\" font-family=\"sans-serif\" font-size=\"10\" lengthAdjust=\"spacing\" textLength=\"48\" x=\"13\" y=\"197.4854\">segment</text><text fill=\"#000000\" font-family=\"sans-serif\" font-size=\"10\" lengthAdjust=\"spacing\" textLength=\"97\" x=\"13\" y=\"209.126\">customer_country</text><text fill=\"#000000\" font-family=\"sans-serif\" font-size=\"10\" lengthAdjust=\"spacing\" textLength=\"75\" x=\"13\" y=\"220.7666\">customer_city</text><rect fill=\"#FEFECE\" filter=\"url(#f13zxo92kt5ezr)\" height=\"72.5313\" style=\"stroke:#A80036;stroke-width:1.5;\" width=\"104\" x=\"648.5\" y=\"148.4531\"/><text fill=\"#000000\" font-family=\"sans-serif\" font-size=\"12\" lengthAdjust=\"spacing\" textLength=\"90\" x=\"655.5\" y=\"161.5918\">Dim_Item_Price</text><line style=\"stroke:#A80036;stroke-width:1.5;\" x1=\"649.5\" x2=\"751.5\" y1=\"166.4219\" y2=\"166.4219\"/><text fill=\"#000000\" font-family=\"sans-serif\" font-size=\"10\" lengthAdjust=\"spacing\" textLength=\"74\" x=\"654.5\" y=\"179.7041\">product_price</text><text fill=\"#000000\" font-family=\"sans-serif\" font-size=\"10\" lengthAdjust=\"spacing\" textLength=\"46\" x=\"654.5\" y=\"191.3447\">discount</text><text fill=\"#000000\" font-family=\"sans-serif\" font-size=\"10\" lengthAdjust=\"spacing\" textLength=\"45\" x=\"654.5\" y=\"202.9854\">quantity</text><text fill=\"#000000\" font-family=\"sans-serif\" font-size=\"10\" lengthAdjust=\"spacing\" textLength=\"59\" x=\"654.5\" y=\"214.626\">profit_ratio</text><rect fill=\"#FEFECE\" filter=\"url(#f13zxo92kt5ezr)\" height=\"49.25\" style=\"stroke:#A80036;stroke-width:1.5;\" width=\"149\" x=\"788\" y=\"160.4531\"/><text fill=\"#000000\" font-family=\"sans-serif\" font-size=\"12\" lengthAdjust=\"spacing\" textLength=\"135\" x=\"795\" y=\"173.5918\">Dim_Product_Category</text><line style=\"stroke:#A80036;stroke-width:1.5;\" x1=\"789\" x2=\"936\" y1=\"178.4219\" y2=\"178.4219\"/><text fill=\"#000000\" font-family=\"sans-serif\" font-size=\"10\" lengthAdjust=\"spacing\" textLength=\"79\" x=\"794\" y=\"191.7041\">product_name</text><text fill=\"#000000\" font-family=\"sans-serif\" font-size=\"10\" lengthAdjust=\"spacing\" textLength=\"95\" x=\"794\" y=\"203.3447\">product_category</text><rect fill=\"#FEFECE\" filter=\"url(#f13zxo92kt5ezr)\" height=\"95.8125\" style=\"stroke:#A80036;stroke-width:1.5;\" width=\"135\" x=\"151\" y=\"136.9531\"/><text fill=\"#000000\" font-family=\"sans-serif\" font-size=\"12\" lengthAdjust=\"spacing\" textLength=\"121\" x=\"158\" y=\"150.0918\">Dim_Order_Location</text><line style=\"stroke:#A80036;stroke-width:1.5;\" x1=\"152\" x2=\"285\" y1=\"154.9219\" y2=\"154.9219\"/><text fill=\"#000000\" font-family=\"sans-serif\" font-size=\"10\" lengthAdjust=\"spacing\" textLength=\"102\" x=\"157\" y=\"168.2041\">department_name</text><text fill=\"#000000\" font-family=\"sans-serif\" font-size=\"10\" lengthAdjust=\"spacing\" textLength=\"39\" x=\"157\" y=\"179.8447\">market</text><text fill=\"#000000\" font-family=\"sans-serif\" font-size=\"10\" lengthAdjust=\"spacing\" textLength=\"69\" x=\"157\" y=\"191.4854\">order_region</text><text fill=\"#000000\" font-family=\"sans-serif\" font-size=\"10\" lengthAdjust=\"spacing\" textLength=\"61\" x=\"157\" y=\"203.126\">order_state</text><text fill=\"#000000\" font-family=\"sans-serif\" font-size=\"10\" lengthAdjust=\"spacing\" textLength=\"107\" x=\"157\" y=\"214.7666\">destination_country</text><text fill=\"#000000\" font-family=\"sans-serif\" font-size=\"10\" lengthAdjust=\"spacing\" textLength=\"85\" x=\"157\" y=\"226.4072\">destination_city</text><rect fill=\"#FEFECE\" filter=\"url(#f13zxo92kt5ezr)\" height=\"49.25\" style=\"stroke:#A80036;stroke-width:1.5;\" width=\"88\" x=\"525.5\" y=\"160.4531\"/><text fill=\"#000000\" font-family=\"sans-serif\" font-size=\"12\" lengthAdjust=\"spacing\" textLength=\"58\" x=\"540.5\" y=\"173.5918\">Dim_Time</text><line style=\"stroke:#A80036;stroke-width:1.5;\" x1=\"526.5\" x2=\"612.5\" y1=\"178.4219\" y2=\"178.4219\"/><text fill=\"#000000\" font-family=\"sans-serif\" font-size=\"10\" lengthAdjust=\"spacing\" textLength=\"59\" x=\"531.5\" y=\"191.7041\">order_date</text><text fill=\"#000000\" font-family=\"sans-serif\" font-size=\"10\" lengthAdjust=\"spacing\" textLength=\"76\" x=\"531.5\" y=\"203.3447\">shipping_date</text><rect fill=\"#FEFECE\" filter=\"url(#f13zxo92kt5ezr)\" height=\"72.5313\" style=\"stroke:#A80036;stroke-width:1.5;\" width=\"169\" x=\"321\" y=\"148.4531\"/><text fill=\"#000000\" font-family=\"sans-serif\" font-size=\"12\" lengthAdjust=\"spacing\" textLength=\"81\" x=\"365\" y=\"161.5918\">Dim_Shipping</text><line style=\"stroke:#A80036;stroke-width:1.5;\" x1=\"322\" x2=\"489\" y1=\"166.4219\" y2=\"166.4219\"/><text fill=\"#000000\" font-family=\"sans-serif\" font-size=\"10\" lengthAdjust=\"spacing\" textLength=\"83\" x=\"327\" y=\"179.7041\">shipping_mode</text><text fill=\"#000000\" font-family=\"sans-serif\" font-size=\"10\" lengthAdjust=\"spacing\" textLength=\"122\" x=\"327\" y=\"191.3447\">days_for_shipping_real</text><text fill=\"#000000\" font-family=\"sans-serif\" font-size=\"10\" lengthAdjust=\"spacing\" textLength=\"157\" x=\"327\" y=\"202.9854\">days_for_shipping_scheduled</text><text fill=\"#000000\" font-family=\"sans-serif\" font-size=\"10\" lengthAdjust=\"spacing\" textLength=\"92\" x=\"327\" y=\"214.626\">late_delivery_risk</text><!--MD5=[6622cb1f1dcdfac0a8ba661b7aeb3859]\nlink Fact_Head_Order to Dim_Customer--><path codeLine=\"53\" d=\"M339.291,68.2401 C282.996,82.1011 200.822,105.4161 133.5,136.9531 C127.687,139.676 121.796,142.8103 116.016,146.1408 \" fill=\"none\" id=\"Fact_Head_Order-Dim_Customer\" style=\"stroke:#A80036;stroke-width:1.0;\"/><!--MD5=[e95e7d54e400a78cc8ec9bd6cc253860]\nlink Fact_Head_Order to Dim_Order_Location--><path codeLine=\"54\" d=\"M371.636,77.0861 C347.849,93.6851 315.225,116.4531 286.199,136.7084 \" fill=\"none\" id=\"Fact_Head_Order-Dim_Order_Location\" style=\"stroke:#A80036;stroke-width:1.0;\"/><!--MD5=[e2bc8789b42dcafa0a7bd4a6566f622b]\nlink Fact_Head_Order to Dim_Time--><path codeLine=\"55\" d=\"M435.199,77.0861 C464.829,100.6631 510.096,136.6831 539.745,160.2762 \" fill=\"none\" id=\"Fact_Head_Order-Dim_Time\" style=\"stroke:#A80036;stroke-width:1.0;\"/><!--MD5=[9b96196ce8cf1ad23039211edd6a6f1b]\nlink Fact_Head_Order to Dim_Shipping--><path codeLine=\"56\" d=\"M405.5,77.0861 C405.5,96.9911 405.5,125.7641 405.5,148.4409 \" fill=\"none\" id=\"Fact_Head_Order-Dim_Shipping\" style=\"stroke:#A80036;stroke-width:1.0;\"/><!--MD5=[0fe4531a66de554c67e31890fe702b8a]\nlink Fact_Head_Order to Fact_Order_Item--><path codeLine=\"58\" d=\"M471.695,52.4531 C507.097,52.4531 542.498,52.4531 577.9,52.4531 \" fill=\"none\" id=\"Fact_Head_Order-Fact_Order_Item\" style=\"stroke:#A80036;stroke-width:1.0;\"/><!--MD5=[2716fe8214cc06e2e728ea36f8be140c]\nlink Fact_Order_Item to Dim_Item_Price--><path codeLine=\"60\" d=\"M642.593,69.4551 C652.472,88.9881 669.471,122.6001 682.503,148.3688 \" fill=\"none\" id=\"Fact_Order_Item-Dim_Item_Price\" style=\"stroke:#A80036;stroke-width:1.0;\"/><!--MD5=[827ad0153ff9d4202e499b596717e780]\nlink Fact_Order_Item to Dim_Product_Category--><path codeLine=\"61\" d=\"M662.457,69.4551 C702.174,92.1871 775.201,133.986 821.178,160.3016 \" fill=\"none\" id=\"Fact_Order_Item-Dim_Product_Category\" style=\"stroke:#A80036;stroke-width:1.0;\"/><!--MD5=[1427cf4071619f3c4cf70d9d8d5646ba]\nlink Fact_Order_Item to Dim_Time--><path codeLine=\"62\" d=\"M626.53,69.4551 C615.207,92.1871 594.388,133.986 581.28,160.3016 \" fill=\"none\" id=\"Fact_Order_Item-Dim_Time\" style=\"stroke:#A80036;stroke-width:1.0;\"/><!--MD5=[b057ad454cb64862f719b739d22528a0]\n@startuml\ntitle Dim Model\n\n\nobject Fact_Head_Order {\n    order_item_total\n    order_profit_per_order\n}\n\nobject Fact_Order_Item {\n}\n\nobject Dim_Customer {\n    fname\n    lname\n    segment\n    customer_country\n    customer_city\n}\n\nobject Dim_Item_Price {\n    product_price\n    discount\n    quantity\n    profit_ratio\n}\n\nobject Dim_Product_Category {\n    product_name\n    product_category\n}\n\nobject Dim_Order_Location {\n    department_name\n    market\n    order_region\n    order_state\n    destination_country\n    destination_city\n}\n\nobject Dim_Time {\n    order_date\n    shipping_date\n}\n\nobject Dim_Shipping {\n    shipping_mode\n    days_for_shipping_real\n    days_for_shipping_scheduled\n    late_delivery_risk\n}\n\nFact_Head_Order -d- Dim_Customer \nFact_Head_Order -d- Dim_Order_Location\nFact_Head_Order -d- Dim_Time\nFact_Head_Order -d- Dim_Shipping\n\nFact_Head_Order -r- Fact_Order_Item\n\nFact_Order_Item -d- Dim_Item_Price\nFact_Order_Item -d- Dim_Product_Category\nFact_Order_Item -d- Dim_Time\n@enduml\n\nPlantUML version 1.2021.4beta3(Unknown compile time)\n(GPL source distribution)\nJava Runtime: Java(TM) SE Runtime Environment\nJVM: Java HotSpot(TM) 64-Bit Server VM\nDefault Encoding: UTF-8\nLanguage: en\nCountry: US\n--></g></svg>"
     },
     "metadata": {},
     "output_type": "display_data"
    }
   ],
   "source": [
    "txt = \"\"\"\n",
    "title Dim Model\n",
    "\n",
    "\n",
    "object Fact_Head_Order {\n",
    "    order_item_total\n",
    "    order_profit_per_order\n",
    "}\n",
    "\n",
    "object Fact_Order_Item {\n",
    "}\n",
    "\n",
    "object Dim_Customer {\n",
    "    fname\n",
    "    lname\n",
    "    segment\n",
    "    customer_country\n",
    "    customer_city\n",
    "}\n",
    "\n",
    "object Dim_Item_Price {\n",
    "    product_price\n",
    "    discount\n",
    "    quantity\n",
    "    profit_ratio\n",
    "}\n",
    "\n",
    "object Dim_Product_Category {\n",
    "    product_name\n",
    "    product_category\n",
    "}\n",
    "\n",
    "object Dim_Order_Location {\n",
    "    department_name\n",
    "    market\n",
    "    order_region\n",
    "    order_state\n",
    "    destination_country\n",
    "    destination_city\n",
    "}\n",
    "\n",
    "object Dim_Time {\n",
    "    order_date\n",
    "    shipping_date\n",
    "}\n",
    "\n",
    "object Dim_Shipping {\n",
    "    shipping_mode\n",
    "    days_for_shipping_real\n",
    "    days_for_shipping_scheduled\n",
    "    late_delivery_risk\n",
    "}\n",
    "\n",
    "Fact_Head_Order -d- Dim_Customer\n",
    "Fact_Head_Order -d- Dim_Order_Location\n",
    "Fact_Head_Order -d- Dim_Time\n",
    "Fact_Head_Order -d- Dim_Shipping\n",
    "\n",
    "Fact_Head_Order -r- Fact_Order_Item\n",
    "\n",
    "Fact_Order_Item -d- Dim_Item_Price\n",
    "Fact_Order_Item -d- Dim_Product_Category\n",
    "Fact_Order_Item -d- Dim_Time\n",
    "\n",
    " \"\"\"\n",
    "\n",
    "\n",
    "\n",
    "show_plant(txt)"
   ],
   "metadata": {
    "collapsed": false,
    "pycharm": {
     "name": "#%%\n"
    }
   }
  }
 ],
 "metadata": {
  "kernelspec": {
   "display_name": "Python 3",
   "language": "python",
   "name": "python3"
  },
  "language_info": {
   "codemirror_mode": {
    "name": "ipython",
    "version": 2
   },
   "file_extension": ".py",
   "mimetype": "text/x-python",
   "name": "python",
   "nbconvert_exporter": "python",
   "pygments_lexer": "ipython2",
   "version": "2.7.6"
  }
 },
 "nbformat": 4,
 "nbformat_minor": 0
}
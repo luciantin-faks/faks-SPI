{
 "cells": [
  {
   "cell_type": "code",
   "execution_count": 1,
   "metadata": {
    "collapsed": true
   },
   "outputs": [],
   "source": [
    "from db_setup import DbHandler"
   ]
  },
  {
   "cell_type": "markdown",
   "source": [
    "# Init Root with new passwd"
   ],
   "metadata": {
    "collapsed": false,
    "pycharm": {
     "name": "#%% md\n"
    }
   }
  },
  {
   "cell_type": "code",
   "execution_count": 2,
   "outputs": [],
   "source": [
    "db_handler = DbHandler.DbHandler(dbtype=\"mysql\", hostname=\"localhost\", port=\"3308\")\n"
   ],
   "metadata": {
    "collapsed": false,
    "pycharm": {
     "name": "#%%\n"
    }
   }
  },
  {
   "cell_type": "code",
   "execution_count": 3,
   "outputs": [
    {
     "ename": "OperationalError",
     "evalue": "(MySQLdb._exceptions.OperationalError) (2002, \"Can't connect to local MySQL server through socket '/run/mysqld/mysqld.sock' (2)\")\n(Background on this error at: http://sqlalche.me/e/13/e3q8)",
     "output_type": "error",
     "traceback": [
      "\u001B[0;31m---------------------------------------------------------------------------\u001B[0m",
      "\u001B[0;31mOperationalError\u001B[0m                          Traceback (most recent call last)",
      "\u001B[0;32m~/anaconda3/envs/py38/lib/python3.8/site-packages/sqlalchemy/engine/base.py\u001B[0m in \u001B[0;36m_wrap_pool_connect\u001B[0;34m(self, fn, connection)\u001B[0m\n\u001B[1;32m   2335\u001B[0m         \u001B[0;32mtry\u001B[0m\u001B[0;34m:\u001B[0m\u001B[0;34m\u001B[0m\u001B[0;34m\u001B[0m\u001B[0m\n\u001B[0;32m-> 2336\u001B[0;31m             \u001B[0;32mreturn\u001B[0m \u001B[0mfn\u001B[0m\u001B[0;34m(\u001B[0m\u001B[0;34m)\u001B[0m\u001B[0;34m\u001B[0m\u001B[0;34m\u001B[0m\u001B[0m\n\u001B[0m\u001B[1;32m   2337\u001B[0m         \u001B[0;32mexcept\u001B[0m \u001B[0mdialect\u001B[0m\u001B[0;34m.\u001B[0m\u001B[0mdbapi\u001B[0m\u001B[0;34m.\u001B[0m\u001B[0mError\u001B[0m \u001B[0;32mas\u001B[0m \u001B[0me\u001B[0m\u001B[0;34m:\u001B[0m\u001B[0;34m\u001B[0m\u001B[0;34m\u001B[0m\u001B[0m\n",
      "\u001B[0;32m~/anaconda3/envs/py38/lib/python3.8/site-packages/sqlalchemy/pool/base.py\u001B[0m in \u001B[0;36mconnect\u001B[0;34m(self)\u001B[0m\n\u001B[1;32m    363\u001B[0m         \u001B[0;32mif\u001B[0m \u001B[0;32mnot\u001B[0m \u001B[0mself\u001B[0m\u001B[0;34m.\u001B[0m\u001B[0m_use_threadlocal\u001B[0m\u001B[0;34m:\u001B[0m\u001B[0;34m\u001B[0m\u001B[0;34m\u001B[0m\u001B[0m\n\u001B[0;32m--> 364\u001B[0;31m             \u001B[0;32mreturn\u001B[0m \u001B[0m_ConnectionFairy\u001B[0m\u001B[0;34m.\u001B[0m\u001B[0m_checkout\u001B[0m\u001B[0;34m(\u001B[0m\u001B[0mself\u001B[0m\u001B[0;34m)\u001B[0m\u001B[0;34m\u001B[0m\u001B[0;34m\u001B[0m\u001B[0m\n\u001B[0m\u001B[1;32m    365\u001B[0m \u001B[0;34m\u001B[0m\u001B[0m\n",
      "\u001B[0;32m~/anaconda3/envs/py38/lib/python3.8/site-packages/sqlalchemy/pool/base.py\u001B[0m in \u001B[0;36m_checkout\u001B[0;34m(cls, pool, threadconns, fairy)\u001B[0m\n\u001B[1;32m    777\u001B[0m         \u001B[0;32mif\u001B[0m \u001B[0;32mnot\u001B[0m \u001B[0mfairy\u001B[0m\u001B[0;34m:\u001B[0m\u001B[0;34m\u001B[0m\u001B[0;34m\u001B[0m\u001B[0m\n\u001B[0;32m--> 778\u001B[0;31m             \u001B[0mfairy\u001B[0m \u001B[0;34m=\u001B[0m \u001B[0m_ConnectionRecord\u001B[0m\u001B[0;34m.\u001B[0m\u001B[0mcheckout\u001B[0m\u001B[0;34m(\u001B[0m\u001B[0mpool\u001B[0m\u001B[0;34m)\u001B[0m\u001B[0;34m\u001B[0m\u001B[0;34m\u001B[0m\u001B[0m\n\u001B[0m\u001B[1;32m    779\u001B[0m \u001B[0;34m\u001B[0m\u001B[0m\n",
      "\u001B[0;32m~/anaconda3/envs/py38/lib/python3.8/site-packages/sqlalchemy/pool/base.py\u001B[0m in \u001B[0;36mcheckout\u001B[0;34m(cls, pool)\u001B[0m\n\u001B[1;32m    494\u001B[0m     \u001B[0;32mdef\u001B[0m \u001B[0mcheckout\u001B[0m\u001B[0;34m(\u001B[0m\u001B[0mcls\u001B[0m\u001B[0;34m,\u001B[0m \u001B[0mpool\u001B[0m\u001B[0;34m)\u001B[0m\u001B[0;34m:\u001B[0m\u001B[0;34m\u001B[0m\u001B[0;34m\u001B[0m\u001B[0m\n\u001B[0;32m--> 495\u001B[0;31m         \u001B[0mrec\u001B[0m \u001B[0;34m=\u001B[0m \u001B[0mpool\u001B[0m\u001B[0;34m.\u001B[0m\u001B[0m_do_get\u001B[0m\u001B[0;34m(\u001B[0m\u001B[0;34m)\u001B[0m\u001B[0;34m\u001B[0m\u001B[0;34m\u001B[0m\u001B[0m\n\u001B[0m\u001B[1;32m    496\u001B[0m         \u001B[0;32mtry\u001B[0m\u001B[0;34m:\u001B[0m\u001B[0;34m\u001B[0m\u001B[0;34m\u001B[0m\u001B[0m\n",
      "\u001B[0;32m~/anaconda3/envs/py38/lib/python3.8/site-packages/sqlalchemy/pool/impl.py\u001B[0m in \u001B[0;36m_do_get\u001B[0;34m(self)\u001B[0m\n\u001B[1;32m    139\u001B[0m                 \u001B[0;32mwith\u001B[0m \u001B[0mutil\u001B[0m\u001B[0;34m.\u001B[0m\u001B[0msafe_reraise\u001B[0m\u001B[0;34m(\u001B[0m\u001B[0;34m)\u001B[0m\u001B[0;34m:\u001B[0m\u001B[0;34m\u001B[0m\u001B[0;34m\u001B[0m\u001B[0m\n\u001B[0;32m--> 140\u001B[0;31m                     \u001B[0mself\u001B[0m\u001B[0;34m.\u001B[0m\u001B[0m_dec_overflow\u001B[0m\u001B[0;34m(\u001B[0m\u001B[0;34m)\u001B[0m\u001B[0;34m\u001B[0m\u001B[0;34m\u001B[0m\u001B[0m\n\u001B[0m\u001B[1;32m    141\u001B[0m         \u001B[0;32melse\u001B[0m\u001B[0;34m:\u001B[0m\u001B[0;34m\u001B[0m\u001B[0;34m\u001B[0m\u001B[0m\n",
      "\u001B[0;32m~/anaconda3/envs/py38/lib/python3.8/site-packages/sqlalchemy/util/langhelpers.py\u001B[0m in \u001B[0;36m__exit__\u001B[0;34m(self, type_, value, traceback)\u001B[0m\n\u001B[1;32m     67\u001B[0m             \u001B[0;32mif\u001B[0m \u001B[0;32mnot\u001B[0m \u001B[0mself\u001B[0m\u001B[0;34m.\u001B[0m\u001B[0mwarn_only\u001B[0m\u001B[0;34m:\u001B[0m\u001B[0;34m\u001B[0m\u001B[0;34m\u001B[0m\u001B[0m\n\u001B[0;32m---> 68\u001B[0;31m                 compat.raise_(\n\u001B[0m\u001B[1;32m     69\u001B[0m                     \u001B[0mexc_value\u001B[0m\u001B[0;34m,\u001B[0m\u001B[0;34m\u001B[0m\u001B[0;34m\u001B[0m\u001B[0m\n",
      "\u001B[0;32m~/anaconda3/envs/py38/lib/python3.8/site-packages/sqlalchemy/util/compat.py\u001B[0m in \u001B[0;36mraise_\u001B[0;34m(***failed resolving arguments***)\u001B[0m\n\u001B[1;32m    181\u001B[0m         \u001B[0;32mtry\u001B[0m\u001B[0;34m:\u001B[0m\u001B[0;34m\u001B[0m\u001B[0;34m\u001B[0m\u001B[0m\n\u001B[0;32m--> 182\u001B[0;31m             \u001B[0;32mraise\u001B[0m \u001B[0mexception\u001B[0m\u001B[0;34m\u001B[0m\u001B[0;34m\u001B[0m\u001B[0m\n\u001B[0m\u001B[1;32m    183\u001B[0m         \u001B[0;32mfinally\u001B[0m\u001B[0;34m:\u001B[0m\u001B[0;34m\u001B[0m\u001B[0;34m\u001B[0m\u001B[0m\n",
      "\u001B[0;32m~/anaconda3/envs/py38/lib/python3.8/site-packages/sqlalchemy/pool/impl.py\u001B[0m in \u001B[0;36m_do_get\u001B[0;34m(self)\u001B[0m\n\u001B[1;32m    136\u001B[0m             \u001B[0;32mtry\u001B[0m\u001B[0;34m:\u001B[0m\u001B[0;34m\u001B[0m\u001B[0;34m\u001B[0m\u001B[0m\n\u001B[0;32m--> 137\u001B[0;31m                 \u001B[0;32mreturn\u001B[0m \u001B[0mself\u001B[0m\u001B[0;34m.\u001B[0m\u001B[0m_create_connection\u001B[0m\u001B[0;34m(\u001B[0m\u001B[0;34m)\u001B[0m\u001B[0;34m\u001B[0m\u001B[0;34m\u001B[0m\u001B[0m\n\u001B[0m\u001B[1;32m    138\u001B[0m             \u001B[0;32mexcept\u001B[0m\u001B[0;34m:\u001B[0m\u001B[0;34m\u001B[0m\u001B[0;34m\u001B[0m\u001B[0m\n",
      "\u001B[0;32m~/anaconda3/envs/py38/lib/python3.8/site-packages/sqlalchemy/pool/base.py\u001B[0m in \u001B[0;36m_create_connection\u001B[0;34m(self)\u001B[0m\n\u001B[1;32m    308\u001B[0m \u001B[0;34m\u001B[0m\u001B[0m\n\u001B[0;32m--> 309\u001B[0;31m         \u001B[0;32mreturn\u001B[0m \u001B[0m_ConnectionRecord\u001B[0m\u001B[0;34m(\u001B[0m\u001B[0mself\u001B[0m\u001B[0;34m)\u001B[0m\u001B[0;34m\u001B[0m\u001B[0;34m\u001B[0m\u001B[0m\n\u001B[0m\u001B[1;32m    310\u001B[0m \u001B[0;34m\u001B[0m\u001B[0m\n",
      "\u001B[0;32m~/anaconda3/envs/py38/lib/python3.8/site-packages/sqlalchemy/pool/base.py\u001B[0m in \u001B[0;36m__init__\u001B[0;34m(self, pool, connect)\u001B[0m\n\u001B[1;32m    439\u001B[0m         \u001B[0;32mif\u001B[0m \u001B[0mconnect\u001B[0m\u001B[0;34m:\u001B[0m\u001B[0;34m\u001B[0m\u001B[0;34m\u001B[0m\u001B[0m\n\u001B[0;32m--> 440\u001B[0;31m             \u001B[0mself\u001B[0m\u001B[0;34m.\u001B[0m\u001B[0m__connect\u001B[0m\u001B[0;34m(\u001B[0m\u001B[0mfirst_connect_check\u001B[0m\u001B[0;34m=\u001B[0m\u001B[0;32mTrue\u001B[0m\u001B[0;34m)\u001B[0m\u001B[0;34m\u001B[0m\u001B[0;34m\u001B[0m\u001B[0m\n\u001B[0m\u001B[1;32m    441\u001B[0m         \u001B[0mself\u001B[0m\u001B[0;34m.\u001B[0m\u001B[0mfinalize_callback\u001B[0m \u001B[0;34m=\u001B[0m \u001B[0mdeque\u001B[0m\u001B[0;34m(\u001B[0m\u001B[0;34m)\u001B[0m\u001B[0;34m\u001B[0m\u001B[0;34m\u001B[0m\u001B[0m\n",
      "\u001B[0;32m~/anaconda3/envs/py38/lib/python3.8/site-packages/sqlalchemy/pool/base.py\u001B[0m in \u001B[0;36m__connect\u001B[0;34m(self, first_connect_check)\u001B[0m\n\u001B[1;32m    660\u001B[0m             \u001B[0;32mwith\u001B[0m \u001B[0mutil\u001B[0m\u001B[0;34m.\u001B[0m\u001B[0msafe_reraise\u001B[0m\u001B[0;34m(\u001B[0m\u001B[0;34m)\u001B[0m\u001B[0;34m:\u001B[0m\u001B[0;34m\u001B[0m\u001B[0;34m\u001B[0m\u001B[0m\n\u001B[0;32m--> 661\u001B[0;31m                 \u001B[0mpool\u001B[0m\u001B[0;34m.\u001B[0m\u001B[0mlogger\u001B[0m\u001B[0;34m.\u001B[0m\u001B[0mdebug\u001B[0m\u001B[0;34m(\u001B[0m\u001B[0;34m\"Error on connect(): %s\"\u001B[0m\u001B[0;34m,\u001B[0m \u001B[0me\u001B[0m\u001B[0;34m)\u001B[0m\u001B[0;34m\u001B[0m\u001B[0;34m\u001B[0m\u001B[0m\n\u001B[0m\u001B[1;32m    662\u001B[0m         \u001B[0;32melse\u001B[0m\u001B[0;34m:\u001B[0m\u001B[0;34m\u001B[0m\u001B[0;34m\u001B[0m\u001B[0m\n",
      "\u001B[0;32m~/anaconda3/envs/py38/lib/python3.8/site-packages/sqlalchemy/util/langhelpers.py\u001B[0m in \u001B[0;36m__exit__\u001B[0;34m(self, type_, value, traceback)\u001B[0m\n\u001B[1;32m     67\u001B[0m             \u001B[0;32mif\u001B[0m \u001B[0;32mnot\u001B[0m \u001B[0mself\u001B[0m\u001B[0;34m.\u001B[0m\u001B[0mwarn_only\u001B[0m\u001B[0;34m:\u001B[0m\u001B[0;34m\u001B[0m\u001B[0;34m\u001B[0m\u001B[0m\n\u001B[0;32m---> 68\u001B[0;31m                 compat.raise_(\n\u001B[0m\u001B[1;32m     69\u001B[0m                     \u001B[0mexc_value\u001B[0m\u001B[0;34m,\u001B[0m\u001B[0;34m\u001B[0m\u001B[0;34m\u001B[0m\u001B[0m\n",
      "\u001B[0;32m~/anaconda3/envs/py38/lib/python3.8/site-packages/sqlalchemy/util/compat.py\u001B[0m in \u001B[0;36mraise_\u001B[0;34m(***failed resolving arguments***)\u001B[0m\n\u001B[1;32m    181\u001B[0m         \u001B[0;32mtry\u001B[0m\u001B[0;34m:\u001B[0m\u001B[0;34m\u001B[0m\u001B[0;34m\u001B[0m\u001B[0m\n\u001B[0;32m--> 182\u001B[0;31m             \u001B[0;32mraise\u001B[0m \u001B[0mexception\u001B[0m\u001B[0;34m\u001B[0m\u001B[0;34m\u001B[0m\u001B[0m\n\u001B[0m\u001B[1;32m    183\u001B[0m         \u001B[0;32mfinally\u001B[0m\u001B[0;34m:\u001B[0m\u001B[0;34m\u001B[0m\u001B[0;34m\u001B[0m\u001B[0m\n",
      "\u001B[0;32m~/anaconda3/envs/py38/lib/python3.8/site-packages/sqlalchemy/pool/base.py\u001B[0m in \u001B[0;36m__connect\u001B[0;34m(self, first_connect_check)\u001B[0m\n\u001B[1;32m    655\u001B[0m             \u001B[0mself\u001B[0m\u001B[0;34m.\u001B[0m\u001B[0mstarttime\u001B[0m \u001B[0;34m=\u001B[0m \u001B[0mtime\u001B[0m\u001B[0;34m.\u001B[0m\u001B[0mtime\u001B[0m\u001B[0;34m(\u001B[0m\u001B[0;34m)\u001B[0m\u001B[0;34m\u001B[0m\u001B[0;34m\u001B[0m\u001B[0m\n\u001B[0;32m--> 656\u001B[0;31m             \u001B[0mconnection\u001B[0m \u001B[0;34m=\u001B[0m \u001B[0mpool\u001B[0m\u001B[0;34m.\u001B[0m\u001B[0m_invoke_creator\u001B[0m\u001B[0;34m(\u001B[0m\u001B[0mself\u001B[0m\u001B[0;34m)\u001B[0m\u001B[0;34m\u001B[0m\u001B[0;34m\u001B[0m\u001B[0m\n\u001B[0m\u001B[1;32m    657\u001B[0m             \u001B[0mpool\u001B[0m\u001B[0;34m.\u001B[0m\u001B[0mlogger\u001B[0m\u001B[0;34m.\u001B[0m\u001B[0mdebug\u001B[0m\u001B[0;34m(\u001B[0m\u001B[0;34m\"Created new connection %r\"\u001B[0m\u001B[0;34m,\u001B[0m \u001B[0mconnection\u001B[0m\u001B[0;34m)\u001B[0m\u001B[0;34m\u001B[0m\u001B[0;34m\u001B[0m\u001B[0m\n",
      "\u001B[0;32m~/anaconda3/envs/py38/lib/python3.8/site-packages/sqlalchemy/engine/strategies.py\u001B[0m in \u001B[0;36mconnect\u001B[0;34m(connection_record)\u001B[0m\n\u001B[1;32m    113\u001B[0m                             \u001B[0;32mreturn\u001B[0m \u001B[0mconnection\u001B[0m\u001B[0;34m\u001B[0m\u001B[0;34m\u001B[0m\u001B[0m\n\u001B[0;32m--> 114\u001B[0;31m                 \u001B[0;32mreturn\u001B[0m \u001B[0mdialect\u001B[0m\u001B[0;34m.\u001B[0m\u001B[0mconnect\u001B[0m\u001B[0;34m(\u001B[0m\u001B[0;34m*\u001B[0m\u001B[0mcargs\u001B[0m\u001B[0;34m,\u001B[0m \u001B[0;34m**\u001B[0m\u001B[0mcparams\u001B[0m\u001B[0;34m)\u001B[0m\u001B[0;34m\u001B[0m\u001B[0;34m\u001B[0m\u001B[0m\n\u001B[0m\u001B[1;32m    115\u001B[0m \u001B[0;34m\u001B[0m\u001B[0m\n",
      "\u001B[0;32m~/anaconda3/envs/py38/lib/python3.8/site-packages/sqlalchemy/engine/default.py\u001B[0m in \u001B[0;36mconnect\u001B[0;34m(self, *cargs, **cparams)\u001B[0m\n\u001B[1;32m    492\u001B[0m         \u001B[0;31m# inherits the docstring from interfaces.Dialect.connect\u001B[0m\u001B[0;34m\u001B[0m\u001B[0;34m\u001B[0m\u001B[0;34m\u001B[0m\u001B[0m\n\u001B[0;32m--> 493\u001B[0;31m         \u001B[0;32mreturn\u001B[0m \u001B[0mself\u001B[0m\u001B[0;34m.\u001B[0m\u001B[0mdbapi\u001B[0m\u001B[0;34m.\u001B[0m\u001B[0mconnect\u001B[0m\u001B[0;34m(\u001B[0m\u001B[0;34m*\u001B[0m\u001B[0mcargs\u001B[0m\u001B[0;34m,\u001B[0m \u001B[0;34m**\u001B[0m\u001B[0mcparams\u001B[0m\u001B[0;34m)\u001B[0m\u001B[0;34m\u001B[0m\u001B[0;34m\u001B[0m\u001B[0m\n\u001B[0m\u001B[1;32m    494\u001B[0m \u001B[0;34m\u001B[0m\u001B[0m\n",
      "\u001B[0;32m~/anaconda3/envs/py38/lib/python3.8/site-packages/MySQLdb/__init__.py\u001B[0m in \u001B[0;36mConnect\u001B[0;34m(*args, **kwargs)\u001B[0m\n\u001B[1;32m    129\u001B[0m \u001B[0;34m\u001B[0m\u001B[0m\n\u001B[0;32m--> 130\u001B[0;31m     \u001B[0;32mreturn\u001B[0m \u001B[0mConnection\u001B[0m\u001B[0;34m(\u001B[0m\u001B[0;34m*\u001B[0m\u001B[0margs\u001B[0m\u001B[0;34m,\u001B[0m \u001B[0;34m**\u001B[0m\u001B[0mkwargs\u001B[0m\u001B[0;34m)\u001B[0m\u001B[0;34m\u001B[0m\u001B[0;34m\u001B[0m\u001B[0m\n\u001B[0m\u001B[1;32m    131\u001B[0m \u001B[0;34m\u001B[0m\u001B[0m\n",
      "\u001B[0;32m~/anaconda3/envs/py38/lib/python3.8/site-packages/MySQLdb/connections.py\u001B[0m in \u001B[0;36m__init__\u001B[0;34m(self, *args, **kwargs)\u001B[0m\n\u001B[1;32m    184\u001B[0m \u001B[0;34m\u001B[0m\u001B[0m\n\u001B[0;32m--> 185\u001B[0;31m         \u001B[0msuper\u001B[0m\u001B[0;34m(\u001B[0m\u001B[0;34m)\u001B[0m\u001B[0;34m.\u001B[0m\u001B[0m__init__\u001B[0m\u001B[0;34m(\u001B[0m\u001B[0;34m*\u001B[0m\u001B[0margs\u001B[0m\u001B[0;34m,\u001B[0m \u001B[0;34m**\u001B[0m\u001B[0mkwargs2\u001B[0m\u001B[0;34m)\u001B[0m\u001B[0;34m\u001B[0m\u001B[0;34m\u001B[0m\u001B[0m\n\u001B[0m\u001B[1;32m    186\u001B[0m         \u001B[0mself\u001B[0m\u001B[0;34m.\u001B[0m\u001B[0mcursorclass\u001B[0m \u001B[0;34m=\u001B[0m \u001B[0mcursorclass\u001B[0m\u001B[0;34m\u001B[0m\u001B[0;34m\u001B[0m\u001B[0m\n",
      "\u001B[0;31mOperationalError\u001B[0m: (2002, \"Can't connect to local MySQL server through socket '/run/mysqld/mysqld.sock' (2)\")",
      "\nThe above exception was the direct cause of the following exception:\n",
      "\u001B[0;31mOperationalError\u001B[0m                          Traceback (most recent call last)",
      "\u001B[0;32m<ipython-input-3-b49a272ec1b3>\u001B[0m in \u001B[0;36m<module>\u001B[0;34m\u001B[0m\n\u001B[1;32m      2\u001B[0m \u001B[0;34m\u001B[0m\u001B[0m\n\u001B[1;32m      3\u001B[0m \u001B[0mscript_file\u001B[0m \u001B[0;34m=\u001B[0m \u001B[0mopen\u001B[0m\u001B[0;34m(\u001B[0m\u001B[0;34m\"./sql_script/alter_root.sql\"\u001B[0m\u001B[0;34m,\u001B[0m \u001B[0;34m\"rt\"\u001B[0m\u001B[0;34m)\u001B[0m\u001B[0;34m\u001B[0m\u001B[0;34m\u001B[0m\u001B[0m\n\u001B[0;32m----> 4\u001B[0;31m \u001B[0mdb_handler\u001B[0m\u001B[0;34m.\u001B[0m\u001B[0mrun_script\u001B[0m\u001B[0;34m(\u001B[0m\u001B[0mengine\u001B[0m\u001B[0;34m=\u001B[0m\u001B[0mroot_engine\u001B[0m\u001B[0;34m,\u001B[0m \u001B[0mscript_file\u001B[0m\u001B[0;34m=\u001B[0m\u001B[0mscript_file\u001B[0m\u001B[0;34m)\u001B[0m\u001B[0;34m\u001B[0m\u001B[0;34m\u001B[0m\u001B[0m\n\u001B[0m\u001B[1;32m      5\u001B[0m \u001B[0;34m\u001B[0m\u001B[0m\n\u001B[1;32m      6\u001B[0m \u001B[0mroot_engine\u001B[0m \u001B[0;34m=\u001B[0m \u001B[0mdb_handler\u001B[0m\u001B[0;34m.\u001B[0m\u001B[0mcreate_engine\u001B[0m\u001B[0;34m(\u001B[0m\u001B[0musername\u001B[0m\u001B[0;34m=\u001B[0m\u001B[0;34m\"root\"\u001B[0m\u001B[0;34m,\u001B[0m \u001B[0mpassword\u001B[0m\u001B[0;34m=\u001B[0m\u001B[0;34m\"1234\"\u001B[0m\u001B[0;34m)\u001B[0m\u001B[0;34m\u001B[0m\u001B[0;34m\u001B[0m\u001B[0m\n",
      "\u001B[0;32m~/Repos/faks-SPI/db_setup/DbHandler.py\u001B[0m in \u001B[0;36mrun_script\u001B[0;34m(self, engine, script_file)\u001B[0m\n\u001B[1;32m     21\u001B[0m         \u001B[0mresults\u001B[0m \u001B[0;34m=\u001B[0m \u001B[0;34m[\u001B[0m\u001B[0;34m]\u001B[0m\u001B[0;34m\u001B[0m\u001B[0;34m\u001B[0m\u001B[0m\n\u001B[1;32m     22\u001B[0m         \u001B[0;32mfor\u001B[0m \u001B[0mcmd\u001B[0m \u001B[0;32min\u001B[0m \u001B[0mscript\u001B[0m\u001B[0;34m:\u001B[0m\u001B[0;34m\u001B[0m\u001B[0;34m\u001B[0m\u001B[0m\n\u001B[0;32m---> 23\u001B[0;31m             \u001B[0mresults\u001B[0m\u001B[0;34m.\u001B[0m\u001B[0mappend\u001B[0m\u001B[0;34m(\u001B[0m\u001B[0mengine\u001B[0m\u001B[0;34m.\u001B[0m\u001B[0mexecute\u001B[0m\u001B[0;34m(\u001B[0m\u001B[0mtext\u001B[0m\u001B[0;34m(\u001B[0m\u001B[0mcmd\u001B[0m\u001B[0;34m)\u001B[0m\u001B[0;34m.\u001B[0m\u001B[0mexecution_options\u001B[0m\u001B[0;34m(\u001B[0m\u001B[0mautocommit\u001B[0m\u001B[0;34m=\u001B[0m\u001B[0;32mTrue\u001B[0m\u001B[0;34m)\u001B[0m\u001B[0;34m)\u001B[0m\u001B[0;34m)\u001B[0m\u001B[0;34m\u001B[0m\u001B[0;34m\u001B[0m\u001B[0m\n\u001B[0m\u001B[1;32m     24\u001B[0m \u001B[0;34m\u001B[0m\u001B[0m\n\u001B[1;32m     25\u001B[0m         \u001B[0;32mreturn\u001B[0m \u001B[0mresults\u001B[0m\u001B[0;34m\u001B[0m\u001B[0;34m\u001B[0m\u001B[0m\n",
      "\u001B[0;32m~/anaconda3/envs/py38/lib/python3.8/site-packages/sqlalchemy/engine/base.py\u001B[0m in \u001B[0;36mexecute\u001B[0;34m(self, statement, *multiparams, **params)\u001B[0m\n\u001B[1;32m   2232\u001B[0m         \"\"\"\n\u001B[1;32m   2233\u001B[0m \u001B[0;34m\u001B[0m\u001B[0m\n\u001B[0;32m-> 2234\u001B[0;31m         \u001B[0mconnection\u001B[0m \u001B[0;34m=\u001B[0m \u001B[0mself\u001B[0m\u001B[0;34m.\u001B[0m\u001B[0m_contextual_connect\u001B[0m\u001B[0;34m(\u001B[0m\u001B[0mclose_with_result\u001B[0m\u001B[0;34m=\u001B[0m\u001B[0;32mTrue\u001B[0m\u001B[0;34m)\u001B[0m\u001B[0;34m\u001B[0m\u001B[0;34m\u001B[0m\u001B[0m\n\u001B[0m\u001B[1;32m   2235\u001B[0m         \u001B[0;32mreturn\u001B[0m \u001B[0mconnection\u001B[0m\u001B[0;34m.\u001B[0m\u001B[0mexecute\u001B[0m\u001B[0;34m(\u001B[0m\u001B[0mstatement\u001B[0m\u001B[0;34m,\u001B[0m \u001B[0;34m*\u001B[0m\u001B[0mmultiparams\u001B[0m\u001B[0;34m,\u001B[0m \u001B[0;34m**\u001B[0m\u001B[0mparams\u001B[0m\u001B[0;34m)\u001B[0m\u001B[0;34m\u001B[0m\u001B[0;34m\u001B[0m\u001B[0m\n\u001B[1;32m   2236\u001B[0m \u001B[0;34m\u001B[0m\u001B[0m\n",
      "\u001B[0;32m~/anaconda3/envs/py38/lib/python3.8/site-packages/sqlalchemy/engine/base.py\u001B[0m in \u001B[0;36m_contextual_connect\u001B[0;34m(self, close_with_result, **kwargs)\u001B[0m\n\u001B[1;32m   2300\u001B[0m         return self._connection_cls(\n\u001B[1;32m   2301\u001B[0m             \u001B[0mself\u001B[0m\u001B[0;34m,\u001B[0m\u001B[0;34m\u001B[0m\u001B[0;34m\u001B[0m\u001B[0m\n\u001B[0;32m-> 2302\u001B[0;31m             \u001B[0mself\u001B[0m\u001B[0;34m.\u001B[0m\u001B[0m_wrap_pool_connect\u001B[0m\u001B[0;34m(\u001B[0m\u001B[0mself\u001B[0m\u001B[0;34m.\u001B[0m\u001B[0mpool\u001B[0m\u001B[0;34m.\u001B[0m\u001B[0mconnect\u001B[0m\u001B[0;34m,\u001B[0m \u001B[0;32mNone\u001B[0m\u001B[0;34m)\u001B[0m\u001B[0;34m,\u001B[0m\u001B[0;34m\u001B[0m\u001B[0;34m\u001B[0m\u001B[0m\n\u001B[0m\u001B[1;32m   2303\u001B[0m             \u001B[0mclose_with_result\u001B[0m\u001B[0;34m=\u001B[0m\u001B[0mclose_with_result\u001B[0m\u001B[0;34m,\u001B[0m\u001B[0;34m\u001B[0m\u001B[0;34m\u001B[0m\u001B[0m\n\u001B[1;32m   2304\u001B[0m             \u001B[0;34m**\u001B[0m\u001B[0mkwargs\u001B[0m\u001B[0;34m\u001B[0m\u001B[0;34m\u001B[0m\u001B[0m\n",
      "\u001B[0;32m~/anaconda3/envs/py38/lib/python3.8/site-packages/sqlalchemy/engine/base.py\u001B[0m in \u001B[0;36m_wrap_pool_connect\u001B[0;34m(self, fn, connection)\u001B[0m\n\u001B[1;32m   2337\u001B[0m         \u001B[0;32mexcept\u001B[0m \u001B[0mdialect\u001B[0m\u001B[0;34m.\u001B[0m\u001B[0mdbapi\u001B[0m\u001B[0;34m.\u001B[0m\u001B[0mError\u001B[0m \u001B[0;32mas\u001B[0m \u001B[0me\u001B[0m\u001B[0;34m:\u001B[0m\u001B[0;34m\u001B[0m\u001B[0;34m\u001B[0m\u001B[0m\n\u001B[1;32m   2338\u001B[0m             \u001B[0;32mif\u001B[0m \u001B[0mconnection\u001B[0m \u001B[0;32mis\u001B[0m \u001B[0;32mNone\u001B[0m\u001B[0;34m:\u001B[0m\u001B[0;34m\u001B[0m\u001B[0;34m\u001B[0m\u001B[0m\n\u001B[0;32m-> 2339\u001B[0;31m                 Connection._handle_dbapi_exception_noconnection(\n\u001B[0m\u001B[1;32m   2340\u001B[0m                     \u001B[0me\u001B[0m\u001B[0;34m,\u001B[0m \u001B[0mdialect\u001B[0m\u001B[0;34m,\u001B[0m \u001B[0mself\u001B[0m\u001B[0;34m\u001B[0m\u001B[0;34m\u001B[0m\u001B[0m\n\u001B[1;32m   2341\u001B[0m                 )\n",
      "\u001B[0;32m~/anaconda3/envs/py38/lib/python3.8/site-packages/sqlalchemy/engine/base.py\u001B[0m in \u001B[0;36m_handle_dbapi_exception_noconnection\u001B[0;34m(cls, e, dialect, engine)\u001B[0m\n\u001B[1;32m   1581\u001B[0m             \u001B[0mutil\u001B[0m\u001B[0;34m.\u001B[0m\u001B[0mraise_\u001B[0m\u001B[0;34m(\u001B[0m\u001B[0mnewraise\u001B[0m\u001B[0;34m,\u001B[0m \u001B[0mwith_traceback\u001B[0m\u001B[0;34m=\u001B[0m\u001B[0mexc_info\u001B[0m\u001B[0;34m[\u001B[0m\u001B[0;36m2\u001B[0m\u001B[0;34m]\u001B[0m\u001B[0;34m,\u001B[0m \u001B[0mfrom_\u001B[0m\u001B[0;34m=\u001B[0m\u001B[0me\u001B[0m\u001B[0;34m)\u001B[0m\u001B[0;34m\u001B[0m\u001B[0;34m\u001B[0m\u001B[0m\n\u001B[1;32m   1582\u001B[0m         \u001B[0;32melif\u001B[0m \u001B[0mshould_wrap\u001B[0m\u001B[0;34m:\u001B[0m\u001B[0;34m\u001B[0m\u001B[0;34m\u001B[0m\u001B[0m\n\u001B[0;32m-> 1583\u001B[0;31m             util.raise_(\n\u001B[0m\u001B[1;32m   1584\u001B[0m                 \u001B[0msqlalchemy_exception\u001B[0m\u001B[0;34m,\u001B[0m \u001B[0mwith_traceback\u001B[0m\u001B[0;34m=\u001B[0m\u001B[0mexc_info\u001B[0m\u001B[0;34m[\u001B[0m\u001B[0;36m2\u001B[0m\u001B[0;34m]\u001B[0m\u001B[0;34m,\u001B[0m \u001B[0mfrom_\u001B[0m\u001B[0;34m=\u001B[0m\u001B[0me\u001B[0m\u001B[0;34m\u001B[0m\u001B[0;34m\u001B[0m\u001B[0m\n\u001B[1;32m   1585\u001B[0m             )\n",
      "\u001B[0;32m~/anaconda3/envs/py38/lib/python3.8/site-packages/sqlalchemy/util/compat.py\u001B[0m in \u001B[0;36mraise_\u001B[0;34m(***failed resolving arguments***)\u001B[0m\n\u001B[1;32m    180\u001B[0m \u001B[0;34m\u001B[0m\u001B[0m\n\u001B[1;32m    181\u001B[0m         \u001B[0;32mtry\u001B[0m\u001B[0;34m:\u001B[0m\u001B[0;34m\u001B[0m\u001B[0;34m\u001B[0m\u001B[0m\n\u001B[0;32m--> 182\u001B[0;31m             \u001B[0;32mraise\u001B[0m \u001B[0mexception\u001B[0m\u001B[0;34m\u001B[0m\u001B[0;34m\u001B[0m\u001B[0m\n\u001B[0m\u001B[1;32m    183\u001B[0m         \u001B[0;32mfinally\u001B[0m\u001B[0;34m:\u001B[0m\u001B[0;34m\u001B[0m\u001B[0;34m\u001B[0m\u001B[0m\n\u001B[1;32m    184\u001B[0m             \u001B[0;31m# credit to\u001B[0m\u001B[0;34m\u001B[0m\u001B[0;34m\u001B[0m\u001B[0;34m\u001B[0m\u001B[0m\n",
      "\u001B[0;32m~/anaconda3/envs/py38/lib/python3.8/site-packages/sqlalchemy/engine/base.py\u001B[0m in \u001B[0;36m_wrap_pool_connect\u001B[0;34m(self, fn, connection)\u001B[0m\n\u001B[1;32m   2334\u001B[0m         \u001B[0mdialect\u001B[0m \u001B[0;34m=\u001B[0m \u001B[0mself\u001B[0m\u001B[0;34m.\u001B[0m\u001B[0mdialect\u001B[0m\u001B[0;34m\u001B[0m\u001B[0;34m\u001B[0m\u001B[0m\n\u001B[1;32m   2335\u001B[0m         \u001B[0;32mtry\u001B[0m\u001B[0;34m:\u001B[0m\u001B[0;34m\u001B[0m\u001B[0;34m\u001B[0m\u001B[0m\n\u001B[0;32m-> 2336\u001B[0;31m             \u001B[0;32mreturn\u001B[0m \u001B[0mfn\u001B[0m\u001B[0;34m(\u001B[0m\u001B[0;34m)\u001B[0m\u001B[0;34m\u001B[0m\u001B[0;34m\u001B[0m\u001B[0m\n\u001B[0m\u001B[1;32m   2337\u001B[0m         \u001B[0;32mexcept\u001B[0m \u001B[0mdialect\u001B[0m\u001B[0;34m.\u001B[0m\u001B[0mdbapi\u001B[0m\u001B[0;34m.\u001B[0m\u001B[0mError\u001B[0m \u001B[0;32mas\u001B[0m \u001B[0me\u001B[0m\u001B[0;34m:\u001B[0m\u001B[0;34m\u001B[0m\u001B[0;34m\u001B[0m\u001B[0m\n\u001B[1;32m   2338\u001B[0m             \u001B[0;32mif\u001B[0m \u001B[0mconnection\u001B[0m \u001B[0;32mis\u001B[0m \u001B[0;32mNone\u001B[0m\u001B[0;34m:\u001B[0m\u001B[0;34m\u001B[0m\u001B[0;34m\u001B[0m\u001B[0m\n",
      "\u001B[0;32m~/anaconda3/envs/py38/lib/python3.8/site-packages/sqlalchemy/pool/base.py\u001B[0m in \u001B[0;36mconnect\u001B[0;34m(self)\u001B[0m\n\u001B[1;32m    362\u001B[0m         \"\"\"\n\u001B[1;32m    363\u001B[0m         \u001B[0;32mif\u001B[0m \u001B[0;32mnot\u001B[0m \u001B[0mself\u001B[0m\u001B[0;34m.\u001B[0m\u001B[0m_use_threadlocal\u001B[0m\u001B[0;34m:\u001B[0m\u001B[0;34m\u001B[0m\u001B[0;34m\u001B[0m\u001B[0m\n\u001B[0;32m--> 364\u001B[0;31m             \u001B[0;32mreturn\u001B[0m \u001B[0m_ConnectionFairy\u001B[0m\u001B[0;34m.\u001B[0m\u001B[0m_checkout\u001B[0m\u001B[0;34m(\u001B[0m\u001B[0mself\u001B[0m\u001B[0;34m)\u001B[0m\u001B[0;34m\u001B[0m\u001B[0;34m\u001B[0m\u001B[0m\n\u001B[0m\u001B[1;32m    365\u001B[0m \u001B[0;34m\u001B[0m\u001B[0m\n\u001B[1;32m    366\u001B[0m         \u001B[0;32mtry\u001B[0m\u001B[0;34m:\u001B[0m\u001B[0;34m\u001B[0m\u001B[0;34m\u001B[0m\u001B[0m\n",
      "\u001B[0;32m~/anaconda3/envs/py38/lib/python3.8/site-packages/sqlalchemy/pool/base.py\u001B[0m in \u001B[0;36m_checkout\u001B[0;34m(cls, pool, threadconns, fairy)\u001B[0m\n\u001B[1;32m    776\u001B[0m     \u001B[0;32mdef\u001B[0m \u001B[0m_checkout\u001B[0m\u001B[0;34m(\u001B[0m\u001B[0mcls\u001B[0m\u001B[0;34m,\u001B[0m \u001B[0mpool\u001B[0m\u001B[0;34m,\u001B[0m \u001B[0mthreadconns\u001B[0m\u001B[0;34m=\u001B[0m\u001B[0;32mNone\u001B[0m\u001B[0;34m,\u001B[0m \u001B[0mfairy\u001B[0m\u001B[0;34m=\u001B[0m\u001B[0;32mNone\u001B[0m\u001B[0;34m)\u001B[0m\u001B[0;34m:\u001B[0m\u001B[0;34m\u001B[0m\u001B[0;34m\u001B[0m\u001B[0m\n\u001B[1;32m    777\u001B[0m         \u001B[0;32mif\u001B[0m \u001B[0;32mnot\u001B[0m \u001B[0mfairy\u001B[0m\u001B[0;34m:\u001B[0m\u001B[0;34m\u001B[0m\u001B[0;34m\u001B[0m\u001B[0m\n\u001B[0;32m--> 778\u001B[0;31m             \u001B[0mfairy\u001B[0m \u001B[0;34m=\u001B[0m \u001B[0m_ConnectionRecord\u001B[0m\u001B[0;34m.\u001B[0m\u001B[0mcheckout\u001B[0m\u001B[0;34m(\u001B[0m\u001B[0mpool\u001B[0m\u001B[0;34m)\u001B[0m\u001B[0;34m\u001B[0m\u001B[0;34m\u001B[0m\u001B[0m\n\u001B[0m\u001B[1;32m    779\u001B[0m \u001B[0;34m\u001B[0m\u001B[0m\n\u001B[1;32m    780\u001B[0m             \u001B[0mfairy\u001B[0m\u001B[0;34m.\u001B[0m\u001B[0m_pool\u001B[0m \u001B[0;34m=\u001B[0m \u001B[0mpool\u001B[0m\u001B[0;34m\u001B[0m\u001B[0;34m\u001B[0m\u001B[0m\n",
      "\u001B[0;32m~/anaconda3/envs/py38/lib/python3.8/site-packages/sqlalchemy/pool/base.py\u001B[0m in \u001B[0;36mcheckout\u001B[0;34m(cls, pool)\u001B[0m\n\u001B[1;32m    493\u001B[0m     \u001B[0;34m@\u001B[0m\u001B[0mclassmethod\u001B[0m\u001B[0;34m\u001B[0m\u001B[0;34m\u001B[0m\u001B[0m\n\u001B[1;32m    494\u001B[0m     \u001B[0;32mdef\u001B[0m \u001B[0mcheckout\u001B[0m\u001B[0;34m(\u001B[0m\u001B[0mcls\u001B[0m\u001B[0;34m,\u001B[0m \u001B[0mpool\u001B[0m\u001B[0;34m)\u001B[0m\u001B[0;34m:\u001B[0m\u001B[0;34m\u001B[0m\u001B[0;34m\u001B[0m\u001B[0m\n\u001B[0;32m--> 495\u001B[0;31m         \u001B[0mrec\u001B[0m \u001B[0;34m=\u001B[0m \u001B[0mpool\u001B[0m\u001B[0;34m.\u001B[0m\u001B[0m_do_get\u001B[0m\u001B[0;34m(\u001B[0m\u001B[0;34m)\u001B[0m\u001B[0;34m\u001B[0m\u001B[0;34m\u001B[0m\u001B[0m\n\u001B[0m\u001B[1;32m    496\u001B[0m         \u001B[0;32mtry\u001B[0m\u001B[0;34m:\u001B[0m\u001B[0;34m\u001B[0m\u001B[0;34m\u001B[0m\u001B[0m\n\u001B[1;32m    497\u001B[0m             \u001B[0mdbapi_connection\u001B[0m \u001B[0;34m=\u001B[0m \u001B[0mrec\u001B[0m\u001B[0;34m.\u001B[0m\u001B[0mget_connection\u001B[0m\u001B[0;34m(\u001B[0m\u001B[0;34m)\u001B[0m\u001B[0;34m\u001B[0m\u001B[0;34m\u001B[0m\u001B[0m\n",
      "\u001B[0;32m~/anaconda3/envs/py38/lib/python3.8/site-packages/sqlalchemy/pool/impl.py\u001B[0m in \u001B[0;36m_do_get\u001B[0;34m(self)\u001B[0m\n\u001B[1;32m    138\u001B[0m             \u001B[0;32mexcept\u001B[0m\u001B[0;34m:\u001B[0m\u001B[0;34m\u001B[0m\u001B[0;34m\u001B[0m\u001B[0m\n\u001B[1;32m    139\u001B[0m                 \u001B[0;32mwith\u001B[0m \u001B[0mutil\u001B[0m\u001B[0;34m.\u001B[0m\u001B[0msafe_reraise\u001B[0m\u001B[0;34m(\u001B[0m\u001B[0;34m)\u001B[0m\u001B[0;34m:\u001B[0m\u001B[0;34m\u001B[0m\u001B[0;34m\u001B[0m\u001B[0m\n\u001B[0;32m--> 140\u001B[0;31m                     \u001B[0mself\u001B[0m\u001B[0;34m.\u001B[0m\u001B[0m_dec_overflow\u001B[0m\u001B[0;34m(\u001B[0m\u001B[0;34m)\u001B[0m\u001B[0;34m\u001B[0m\u001B[0;34m\u001B[0m\u001B[0m\n\u001B[0m\u001B[1;32m    141\u001B[0m         \u001B[0;32melse\u001B[0m\u001B[0;34m:\u001B[0m\u001B[0;34m\u001B[0m\u001B[0;34m\u001B[0m\u001B[0m\n\u001B[1;32m    142\u001B[0m             \u001B[0;32mreturn\u001B[0m \u001B[0mself\u001B[0m\u001B[0;34m.\u001B[0m\u001B[0m_do_get\u001B[0m\u001B[0;34m(\u001B[0m\u001B[0;34m)\u001B[0m\u001B[0;34m\u001B[0m\u001B[0;34m\u001B[0m\u001B[0m\n",
      "\u001B[0;32m~/anaconda3/envs/py38/lib/python3.8/site-packages/sqlalchemy/util/langhelpers.py\u001B[0m in \u001B[0;36m__exit__\u001B[0;34m(self, type_, value, traceback)\u001B[0m\n\u001B[1;32m     66\u001B[0m             \u001B[0mself\u001B[0m\u001B[0;34m.\u001B[0m\u001B[0m_exc_info\u001B[0m \u001B[0;34m=\u001B[0m \u001B[0;32mNone\u001B[0m  \u001B[0;31m# remove potential circular references\u001B[0m\u001B[0;34m\u001B[0m\u001B[0;34m\u001B[0m\u001B[0m\n\u001B[1;32m     67\u001B[0m             \u001B[0;32mif\u001B[0m \u001B[0;32mnot\u001B[0m \u001B[0mself\u001B[0m\u001B[0;34m.\u001B[0m\u001B[0mwarn_only\u001B[0m\u001B[0;34m:\u001B[0m\u001B[0;34m\u001B[0m\u001B[0;34m\u001B[0m\u001B[0m\n\u001B[0;32m---> 68\u001B[0;31m                 compat.raise_(\n\u001B[0m\u001B[1;32m     69\u001B[0m                     \u001B[0mexc_value\u001B[0m\u001B[0;34m,\u001B[0m\u001B[0;34m\u001B[0m\u001B[0;34m\u001B[0m\u001B[0m\n\u001B[1;32m     70\u001B[0m                     \u001B[0mwith_traceback\u001B[0m\u001B[0;34m=\u001B[0m\u001B[0mexc_tb\u001B[0m\u001B[0;34m,\u001B[0m\u001B[0;34m\u001B[0m\u001B[0;34m\u001B[0m\u001B[0m\n",
      "\u001B[0;32m~/anaconda3/envs/py38/lib/python3.8/site-packages/sqlalchemy/util/compat.py\u001B[0m in \u001B[0;36mraise_\u001B[0;34m(***failed resolving arguments***)\u001B[0m\n\u001B[1;32m    180\u001B[0m \u001B[0;34m\u001B[0m\u001B[0m\n\u001B[1;32m    181\u001B[0m         \u001B[0;32mtry\u001B[0m\u001B[0;34m:\u001B[0m\u001B[0;34m\u001B[0m\u001B[0;34m\u001B[0m\u001B[0m\n\u001B[0;32m--> 182\u001B[0;31m             \u001B[0;32mraise\u001B[0m \u001B[0mexception\u001B[0m\u001B[0;34m\u001B[0m\u001B[0;34m\u001B[0m\u001B[0m\n\u001B[0m\u001B[1;32m    183\u001B[0m         \u001B[0;32mfinally\u001B[0m\u001B[0;34m:\u001B[0m\u001B[0;34m\u001B[0m\u001B[0;34m\u001B[0m\u001B[0m\n\u001B[1;32m    184\u001B[0m             \u001B[0;31m# credit to\u001B[0m\u001B[0;34m\u001B[0m\u001B[0;34m\u001B[0m\u001B[0;34m\u001B[0m\u001B[0m\n",
      "\u001B[0;32m~/anaconda3/envs/py38/lib/python3.8/site-packages/sqlalchemy/pool/impl.py\u001B[0m in \u001B[0;36m_do_get\u001B[0;34m(self)\u001B[0m\n\u001B[1;32m    135\u001B[0m         \u001B[0;32mif\u001B[0m \u001B[0mself\u001B[0m\u001B[0;34m.\u001B[0m\u001B[0m_inc_overflow\u001B[0m\u001B[0;34m(\u001B[0m\u001B[0;34m)\u001B[0m\u001B[0;34m:\u001B[0m\u001B[0;34m\u001B[0m\u001B[0;34m\u001B[0m\u001B[0m\n\u001B[1;32m    136\u001B[0m             \u001B[0;32mtry\u001B[0m\u001B[0;34m:\u001B[0m\u001B[0;34m\u001B[0m\u001B[0;34m\u001B[0m\u001B[0m\n\u001B[0;32m--> 137\u001B[0;31m                 \u001B[0;32mreturn\u001B[0m \u001B[0mself\u001B[0m\u001B[0;34m.\u001B[0m\u001B[0m_create_connection\u001B[0m\u001B[0;34m(\u001B[0m\u001B[0;34m)\u001B[0m\u001B[0;34m\u001B[0m\u001B[0;34m\u001B[0m\u001B[0m\n\u001B[0m\u001B[1;32m    138\u001B[0m             \u001B[0;32mexcept\u001B[0m\u001B[0;34m:\u001B[0m\u001B[0;34m\u001B[0m\u001B[0;34m\u001B[0m\u001B[0m\n\u001B[1;32m    139\u001B[0m                 \u001B[0;32mwith\u001B[0m \u001B[0mutil\u001B[0m\u001B[0;34m.\u001B[0m\u001B[0msafe_reraise\u001B[0m\u001B[0;34m(\u001B[0m\u001B[0;34m)\u001B[0m\u001B[0;34m:\u001B[0m\u001B[0;34m\u001B[0m\u001B[0;34m\u001B[0m\u001B[0m\n",
      "\u001B[0;32m~/anaconda3/envs/py38/lib/python3.8/site-packages/sqlalchemy/pool/base.py\u001B[0m in \u001B[0;36m_create_connection\u001B[0;34m(self)\u001B[0m\n\u001B[1;32m    307\u001B[0m         \u001B[0;34m\"\"\"Called by subclasses to create a new ConnectionRecord.\"\"\"\u001B[0m\u001B[0;34m\u001B[0m\u001B[0;34m\u001B[0m\u001B[0m\n\u001B[1;32m    308\u001B[0m \u001B[0;34m\u001B[0m\u001B[0m\n\u001B[0;32m--> 309\u001B[0;31m         \u001B[0;32mreturn\u001B[0m \u001B[0m_ConnectionRecord\u001B[0m\u001B[0;34m(\u001B[0m\u001B[0mself\u001B[0m\u001B[0;34m)\u001B[0m\u001B[0;34m\u001B[0m\u001B[0;34m\u001B[0m\u001B[0m\n\u001B[0m\u001B[1;32m    310\u001B[0m \u001B[0;34m\u001B[0m\u001B[0m\n\u001B[1;32m    311\u001B[0m     \u001B[0;32mdef\u001B[0m \u001B[0m_invalidate\u001B[0m\u001B[0;34m(\u001B[0m\u001B[0mself\u001B[0m\u001B[0;34m,\u001B[0m \u001B[0mconnection\u001B[0m\u001B[0;34m,\u001B[0m \u001B[0mexception\u001B[0m\u001B[0;34m=\u001B[0m\u001B[0;32mNone\u001B[0m\u001B[0;34m,\u001B[0m \u001B[0m_checkin\u001B[0m\u001B[0;34m=\u001B[0m\u001B[0;32mTrue\u001B[0m\u001B[0;34m)\u001B[0m\u001B[0;34m:\u001B[0m\u001B[0;34m\u001B[0m\u001B[0;34m\u001B[0m\u001B[0m\n",
      "\u001B[0;32m~/anaconda3/envs/py38/lib/python3.8/site-packages/sqlalchemy/pool/base.py\u001B[0m in \u001B[0;36m__init__\u001B[0;34m(self, pool, connect)\u001B[0m\n\u001B[1;32m    438\u001B[0m         \u001B[0mself\u001B[0m\u001B[0;34m.\u001B[0m\u001B[0m__pool\u001B[0m \u001B[0;34m=\u001B[0m \u001B[0mpool\u001B[0m\u001B[0;34m\u001B[0m\u001B[0;34m\u001B[0m\u001B[0m\n\u001B[1;32m    439\u001B[0m         \u001B[0;32mif\u001B[0m \u001B[0mconnect\u001B[0m\u001B[0;34m:\u001B[0m\u001B[0;34m\u001B[0m\u001B[0;34m\u001B[0m\u001B[0m\n\u001B[0;32m--> 440\u001B[0;31m             \u001B[0mself\u001B[0m\u001B[0;34m.\u001B[0m\u001B[0m__connect\u001B[0m\u001B[0;34m(\u001B[0m\u001B[0mfirst_connect_check\u001B[0m\u001B[0;34m=\u001B[0m\u001B[0;32mTrue\u001B[0m\u001B[0;34m)\u001B[0m\u001B[0;34m\u001B[0m\u001B[0;34m\u001B[0m\u001B[0m\n\u001B[0m\u001B[1;32m    441\u001B[0m         \u001B[0mself\u001B[0m\u001B[0;34m.\u001B[0m\u001B[0mfinalize_callback\u001B[0m \u001B[0;34m=\u001B[0m \u001B[0mdeque\u001B[0m\u001B[0;34m(\u001B[0m\u001B[0;34m)\u001B[0m\u001B[0;34m\u001B[0m\u001B[0;34m\u001B[0m\u001B[0m\n\u001B[1;32m    442\u001B[0m \u001B[0;34m\u001B[0m\u001B[0m\n",
      "\u001B[0;32m~/anaconda3/envs/py38/lib/python3.8/site-packages/sqlalchemy/pool/base.py\u001B[0m in \u001B[0;36m__connect\u001B[0;34m(self, first_connect_check)\u001B[0m\n\u001B[1;32m    659\u001B[0m         \u001B[0;32mexcept\u001B[0m \u001B[0mException\u001B[0m \u001B[0;32mas\u001B[0m \u001B[0me\u001B[0m\u001B[0;34m:\u001B[0m\u001B[0;34m\u001B[0m\u001B[0;34m\u001B[0m\u001B[0m\n\u001B[1;32m    660\u001B[0m             \u001B[0;32mwith\u001B[0m \u001B[0mutil\u001B[0m\u001B[0;34m.\u001B[0m\u001B[0msafe_reraise\u001B[0m\u001B[0;34m(\u001B[0m\u001B[0;34m)\u001B[0m\u001B[0;34m:\u001B[0m\u001B[0;34m\u001B[0m\u001B[0;34m\u001B[0m\u001B[0m\n\u001B[0;32m--> 661\u001B[0;31m                 \u001B[0mpool\u001B[0m\u001B[0;34m.\u001B[0m\u001B[0mlogger\u001B[0m\u001B[0;34m.\u001B[0m\u001B[0mdebug\u001B[0m\u001B[0;34m(\u001B[0m\u001B[0;34m\"Error on connect(): %s\"\u001B[0m\u001B[0;34m,\u001B[0m \u001B[0me\u001B[0m\u001B[0;34m)\u001B[0m\u001B[0;34m\u001B[0m\u001B[0;34m\u001B[0m\u001B[0m\n\u001B[0m\u001B[1;32m    662\u001B[0m         \u001B[0;32melse\u001B[0m\u001B[0;34m:\u001B[0m\u001B[0;34m\u001B[0m\u001B[0;34m\u001B[0m\u001B[0m\n\u001B[1;32m    663\u001B[0m             \u001B[0;32mif\u001B[0m \u001B[0mfirst_connect_check\u001B[0m\u001B[0;34m:\u001B[0m\u001B[0;34m\u001B[0m\u001B[0;34m\u001B[0m\u001B[0m\n",
      "\u001B[0;32m~/anaconda3/envs/py38/lib/python3.8/site-packages/sqlalchemy/util/langhelpers.py\u001B[0m in \u001B[0;36m__exit__\u001B[0;34m(self, type_, value, traceback)\u001B[0m\n\u001B[1;32m     66\u001B[0m             \u001B[0mself\u001B[0m\u001B[0;34m.\u001B[0m\u001B[0m_exc_info\u001B[0m \u001B[0;34m=\u001B[0m \u001B[0;32mNone\u001B[0m  \u001B[0;31m# remove potential circular references\u001B[0m\u001B[0;34m\u001B[0m\u001B[0;34m\u001B[0m\u001B[0m\n\u001B[1;32m     67\u001B[0m             \u001B[0;32mif\u001B[0m \u001B[0;32mnot\u001B[0m \u001B[0mself\u001B[0m\u001B[0;34m.\u001B[0m\u001B[0mwarn_only\u001B[0m\u001B[0;34m:\u001B[0m\u001B[0;34m\u001B[0m\u001B[0;34m\u001B[0m\u001B[0m\n\u001B[0;32m---> 68\u001B[0;31m                 compat.raise_(\n\u001B[0m\u001B[1;32m     69\u001B[0m                     \u001B[0mexc_value\u001B[0m\u001B[0;34m,\u001B[0m\u001B[0;34m\u001B[0m\u001B[0;34m\u001B[0m\u001B[0m\n\u001B[1;32m     70\u001B[0m                     \u001B[0mwith_traceback\u001B[0m\u001B[0;34m=\u001B[0m\u001B[0mexc_tb\u001B[0m\u001B[0;34m,\u001B[0m\u001B[0;34m\u001B[0m\u001B[0;34m\u001B[0m\u001B[0m\n",
      "\u001B[0;32m~/anaconda3/envs/py38/lib/python3.8/site-packages/sqlalchemy/util/compat.py\u001B[0m in \u001B[0;36mraise_\u001B[0;34m(***failed resolving arguments***)\u001B[0m\n\u001B[1;32m    180\u001B[0m \u001B[0;34m\u001B[0m\u001B[0m\n\u001B[1;32m    181\u001B[0m         \u001B[0;32mtry\u001B[0m\u001B[0;34m:\u001B[0m\u001B[0;34m\u001B[0m\u001B[0;34m\u001B[0m\u001B[0m\n\u001B[0;32m--> 182\u001B[0;31m             \u001B[0;32mraise\u001B[0m \u001B[0mexception\u001B[0m\u001B[0;34m\u001B[0m\u001B[0;34m\u001B[0m\u001B[0m\n\u001B[0m\u001B[1;32m    183\u001B[0m         \u001B[0;32mfinally\u001B[0m\u001B[0;34m:\u001B[0m\u001B[0;34m\u001B[0m\u001B[0;34m\u001B[0m\u001B[0m\n\u001B[1;32m    184\u001B[0m             \u001B[0;31m# credit to\u001B[0m\u001B[0;34m\u001B[0m\u001B[0;34m\u001B[0m\u001B[0;34m\u001B[0m\u001B[0m\n",
      "\u001B[0;32m~/anaconda3/envs/py38/lib/python3.8/site-packages/sqlalchemy/pool/base.py\u001B[0m in \u001B[0;36m__connect\u001B[0;34m(self, first_connect_check)\u001B[0m\n\u001B[1;32m    654\u001B[0m         \u001B[0;32mtry\u001B[0m\u001B[0;34m:\u001B[0m\u001B[0;34m\u001B[0m\u001B[0;34m\u001B[0m\u001B[0m\n\u001B[1;32m    655\u001B[0m             \u001B[0mself\u001B[0m\u001B[0;34m.\u001B[0m\u001B[0mstarttime\u001B[0m \u001B[0;34m=\u001B[0m \u001B[0mtime\u001B[0m\u001B[0;34m.\u001B[0m\u001B[0mtime\u001B[0m\u001B[0;34m(\u001B[0m\u001B[0;34m)\u001B[0m\u001B[0;34m\u001B[0m\u001B[0;34m\u001B[0m\u001B[0m\n\u001B[0;32m--> 656\u001B[0;31m             \u001B[0mconnection\u001B[0m \u001B[0;34m=\u001B[0m \u001B[0mpool\u001B[0m\u001B[0;34m.\u001B[0m\u001B[0m_invoke_creator\u001B[0m\u001B[0;34m(\u001B[0m\u001B[0mself\u001B[0m\u001B[0;34m)\u001B[0m\u001B[0;34m\u001B[0m\u001B[0;34m\u001B[0m\u001B[0m\n\u001B[0m\u001B[1;32m    657\u001B[0m             \u001B[0mpool\u001B[0m\u001B[0;34m.\u001B[0m\u001B[0mlogger\u001B[0m\u001B[0;34m.\u001B[0m\u001B[0mdebug\u001B[0m\u001B[0;34m(\u001B[0m\u001B[0;34m\"Created new connection %r\"\u001B[0m\u001B[0;34m,\u001B[0m \u001B[0mconnection\u001B[0m\u001B[0;34m)\u001B[0m\u001B[0;34m\u001B[0m\u001B[0;34m\u001B[0m\u001B[0m\n\u001B[1;32m    658\u001B[0m             \u001B[0mself\u001B[0m\u001B[0;34m.\u001B[0m\u001B[0mconnection\u001B[0m \u001B[0;34m=\u001B[0m \u001B[0mconnection\u001B[0m\u001B[0;34m\u001B[0m\u001B[0;34m\u001B[0m\u001B[0m\n",
      "\u001B[0;32m~/anaconda3/envs/py38/lib/python3.8/site-packages/sqlalchemy/engine/strategies.py\u001B[0m in \u001B[0;36mconnect\u001B[0;34m(connection_record)\u001B[0m\n\u001B[1;32m    112\u001B[0m                         \u001B[0;32mif\u001B[0m \u001B[0mconnection\u001B[0m \u001B[0;32mis\u001B[0m \u001B[0;32mnot\u001B[0m \u001B[0;32mNone\u001B[0m\u001B[0;34m:\u001B[0m\u001B[0;34m\u001B[0m\u001B[0;34m\u001B[0m\u001B[0m\n\u001B[1;32m    113\u001B[0m                             \u001B[0;32mreturn\u001B[0m \u001B[0mconnection\u001B[0m\u001B[0;34m\u001B[0m\u001B[0;34m\u001B[0m\u001B[0m\n\u001B[0;32m--> 114\u001B[0;31m                 \u001B[0;32mreturn\u001B[0m \u001B[0mdialect\u001B[0m\u001B[0;34m.\u001B[0m\u001B[0mconnect\u001B[0m\u001B[0;34m(\u001B[0m\u001B[0;34m*\u001B[0m\u001B[0mcargs\u001B[0m\u001B[0;34m,\u001B[0m \u001B[0;34m**\u001B[0m\u001B[0mcparams\u001B[0m\u001B[0;34m)\u001B[0m\u001B[0;34m\u001B[0m\u001B[0;34m\u001B[0m\u001B[0m\n\u001B[0m\u001B[1;32m    115\u001B[0m \u001B[0;34m\u001B[0m\u001B[0m\n\u001B[1;32m    116\u001B[0m             \u001B[0mcreator\u001B[0m \u001B[0;34m=\u001B[0m \u001B[0mpop_kwarg\u001B[0m\u001B[0;34m(\u001B[0m\u001B[0;34m\"creator\"\u001B[0m\u001B[0;34m,\u001B[0m \u001B[0mconnect\u001B[0m\u001B[0;34m)\u001B[0m\u001B[0;34m\u001B[0m\u001B[0;34m\u001B[0m\u001B[0m\n",
      "\u001B[0;32m~/anaconda3/envs/py38/lib/python3.8/site-packages/sqlalchemy/engine/default.py\u001B[0m in \u001B[0;36mconnect\u001B[0;34m(self, *cargs, **cparams)\u001B[0m\n\u001B[1;32m    491\u001B[0m     \u001B[0;32mdef\u001B[0m \u001B[0mconnect\u001B[0m\u001B[0;34m(\u001B[0m\u001B[0mself\u001B[0m\u001B[0;34m,\u001B[0m \u001B[0;34m*\u001B[0m\u001B[0mcargs\u001B[0m\u001B[0;34m,\u001B[0m \u001B[0;34m**\u001B[0m\u001B[0mcparams\u001B[0m\u001B[0;34m)\u001B[0m\u001B[0;34m:\u001B[0m\u001B[0;34m\u001B[0m\u001B[0;34m\u001B[0m\u001B[0m\n\u001B[1;32m    492\u001B[0m         \u001B[0;31m# inherits the docstring from interfaces.Dialect.connect\u001B[0m\u001B[0;34m\u001B[0m\u001B[0;34m\u001B[0m\u001B[0;34m\u001B[0m\u001B[0m\n\u001B[0;32m--> 493\u001B[0;31m         \u001B[0;32mreturn\u001B[0m \u001B[0mself\u001B[0m\u001B[0;34m.\u001B[0m\u001B[0mdbapi\u001B[0m\u001B[0;34m.\u001B[0m\u001B[0mconnect\u001B[0m\u001B[0;34m(\u001B[0m\u001B[0;34m*\u001B[0m\u001B[0mcargs\u001B[0m\u001B[0;34m,\u001B[0m \u001B[0;34m**\u001B[0m\u001B[0mcparams\u001B[0m\u001B[0;34m)\u001B[0m\u001B[0;34m\u001B[0m\u001B[0;34m\u001B[0m\u001B[0m\n\u001B[0m\u001B[1;32m    494\u001B[0m \u001B[0;34m\u001B[0m\u001B[0m\n\u001B[1;32m    495\u001B[0m     \u001B[0;32mdef\u001B[0m \u001B[0mcreate_connect_args\u001B[0m\u001B[0;34m(\u001B[0m\u001B[0mself\u001B[0m\u001B[0;34m,\u001B[0m \u001B[0murl\u001B[0m\u001B[0;34m)\u001B[0m\u001B[0;34m:\u001B[0m\u001B[0;34m\u001B[0m\u001B[0;34m\u001B[0m\u001B[0m\n",
      "\u001B[0;32m~/anaconda3/envs/py38/lib/python3.8/site-packages/MySQLdb/__init__.py\u001B[0m in \u001B[0;36mConnect\u001B[0;34m(*args, **kwargs)\u001B[0m\n\u001B[1;32m    128\u001B[0m     \u001B[0;32mfrom\u001B[0m \u001B[0mMySQLdb\u001B[0m\u001B[0;34m.\u001B[0m\u001B[0mconnections\u001B[0m \u001B[0;32mimport\u001B[0m \u001B[0mConnection\u001B[0m\u001B[0;34m\u001B[0m\u001B[0;34m\u001B[0m\u001B[0m\n\u001B[1;32m    129\u001B[0m \u001B[0;34m\u001B[0m\u001B[0m\n\u001B[0;32m--> 130\u001B[0;31m     \u001B[0;32mreturn\u001B[0m \u001B[0mConnection\u001B[0m\u001B[0;34m(\u001B[0m\u001B[0;34m*\u001B[0m\u001B[0margs\u001B[0m\u001B[0;34m,\u001B[0m \u001B[0;34m**\u001B[0m\u001B[0mkwargs\u001B[0m\u001B[0;34m)\u001B[0m\u001B[0;34m\u001B[0m\u001B[0;34m\u001B[0m\u001B[0m\n\u001B[0m\u001B[1;32m    131\u001B[0m \u001B[0;34m\u001B[0m\u001B[0m\n\u001B[1;32m    132\u001B[0m \u001B[0;34m\u001B[0m\u001B[0m\n",
      "\u001B[0;32m~/anaconda3/envs/py38/lib/python3.8/site-packages/MySQLdb/connections.py\u001B[0m in \u001B[0;36m__init__\u001B[0;34m(self, *args, **kwargs)\u001B[0m\n\u001B[1;32m    183\u001B[0m         \u001B[0mautocommit\u001B[0m \u001B[0;34m=\u001B[0m \u001B[0mkwargs2\u001B[0m\u001B[0;34m.\u001B[0m\u001B[0mpop\u001B[0m\u001B[0;34m(\u001B[0m\u001B[0;34m\"autocommit\"\u001B[0m\u001B[0;34m,\u001B[0m \u001B[0;32mFalse\u001B[0m\u001B[0;34m)\u001B[0m\u001B[0;34m\u001B[0m\u001B[0;34m\u001B[0m\u001B[0m\n\u001B[1;32m    184\u001B[0m \u001B[0;34m\u001B[0m\u001B[0m\n\u001B[0;32m--> 185\u001B[0;31m         \u001B[0msuper\u001B[0m\u001B[0;34m(\u001B[0m\u001B[0;34m)\u001B[0m\u001B[0;34m.\u001B[0m\u001B[0m__init__\u001B[0m\u001B[0;34m(\u001B[0m\u001B[0;34m*\u001B[0m\u001B[0margs\u001B[0m\u001B[0;34m,\u001B[0m \u001B[0;34m**\u001B[0m\u001B[0mkwargs2\u001B[0m\u001B[0;34m)\u001B[0m\u001B[0;34m\u001B[0m\u001B[0;34m\u001B[0m\u001B[0m\n\u001B[0m\u001B[1;32m    186\u001B[0m         \u001B[0mself\u001B[0m\u001B[0;34m.\u001B[0m\u001B[0mcursorclass\u001B[0m \u001B[0;34m=\u001B[0m \u001B[0mcursorclass\u001B[0m\u001B[0;34m\u001B[0m\u001B[0;34m\u001B[0m\u001B[0m\n\u001B[1;32m    187\u001B[0m         \u001B[0mself\u001B[0m\u001B[0;34m.\u001B[0m\u001B[0mencoders\u001B[0m \u001B[0;34m=\u001B[0m \u001B[0;34m{\u001B[0m\u001B[0mk\u001B[0m\u001B[0;34m:\u001B[0m \u001B[0mv\u001B[0m \u001B[0;32mfor\u001B[0m \u001B[0mk\u001B[0m\u001B[0;34m,\u001B[0m \u001B[0mv\u001B[0m \u001B[0;32min\u001B[0m \u001B[0mconv\u001B[0m\u001B[0;34m.\u001B[0m\u001B[0mitems\u001B[0m\u001B[0;34m(\u001B[0m\u001B[0;34m)\u001B[0m \u001B[0;32mif\u001B[0m \u001B[0mtype\u001B[0m\u001B[0;34m(\u001B[0m\u001B[0mk\u001B[0m\u001B[0;34m)\u001B[0m \u001B[0;32mis\u001B[0m \u001B[0;32mnot\u001B[0m \u001B[0mint\u001B[0m\u001B[0;34m}\u001B[0m\u001B[0;34m\u001B[0m\u001B[0;34m\u001B[0m\u001B[0m\n",
      "\u001B[0;31mOperationalError\u001B[0m: (MySQLdb._exceptions.OperationalError) (2002, \"Can't connect to local MySQL server through socket '/run/mysqld/mysqld.sock' (2)\")\n(Background on this error at: http://sqlalche.me/e/13/e3q8)"
     ]
    }
   ],
   "source": [
    "root_engine = db_handler.create_engine(username=\"root\", password=\"4321\")\n",
    "\n",
    "script_file = open(\"./sql_script/alter_root.sql\", \"rt\")\n",
    "db_handler.run_script(engine=root_engine, script_file=script_file)\n",
    "\n",
    "root_engine = db_handler.create_engine(username=\"root\", password=\"1234\")"
   ],
   "metadata": {
    "collapsed": false,
    "pycharm": {
     "name": "#%%\n"
    }
   }
  },
  {
   "cell_type": "markdown",
   "source": [
    "# Create user \"data\" && tables"
   ],
   "metadata": {
    "collapsed": false
   }
  },
  {
   "cell_type": "code",
   "execution_count": 4,
   "outputs": [
    {
     "data": {
      "text/plain": "[<sqlalchemy.engine.result.ResultProxy at 0x13f00654e50>,\n <sqlalchemy.engine.result.ResultProxy at 0x13f00654cd0>,\n <sqlalchemy.engine.result.ResultProxy at 0x13f00654eb0>,\n <sqlalchemy.engine.result.ResultProxy at 0x13f0066e2b0>,\n <sqlalchemy.engine.result.ResultProxy at 0x13f0066e430>,\n <sqlalchemy.engine.result.ResultProxy at 0x13f0066e5b0>]"
     },
     "execution_count": 4,
     "metadata": {},
     "output_type": "execute_result"
    }
   ],
   "source": [
    "script_file = open(\"./sql_script/create_user_data.sql\", \"rt\")\n",
    "db_handler.run_script(engine=root_engine, script_file=script_file)"
   ],
   "metadata": {
    "collapsed": false,
    "pycharm": {
     "name": "#%%\n"
    }
   }
  },
  {
   "cell_type": "code",
   "execution_count": 5,
   "outputs": [],
   "source": [
    "data_engine = db_handler.create_engine(username=\"data\", password=\"1234\")"
   ],
   "metadata": {
    "collapsed": false,
    "pycharm": {
     "name": "#%%\n"
    }
   }
  },
  {
   "cell_type": "code",
   "execution_count": 6,
   "outputs": [
    {
     "name": "stdout",
     "output_type": "stream",
     "text": [
      "[<sqlalchemy.engine.result.ResultProxy object at 0x0000013F0066E8B0>, <sqlalchemy.engine.result.ResultProxy object at 0x0000013F0067E220>, <sqlalchemy.engine.result.ResultProxy object at 0x0000013F0067E6D0>, <sqlalchemy.engine.result.ResultProxy object at 0x0000013F0067E820>, <sqlalchemy.engine.result.ResultProxy object at 0x0000013F0067EA00>, <sqlalchemy.engine.result.ResultProxy object at 0x0000013F0067EB80>, <sqlalchemy.engine.result.ResultProxy object at 0x0000013F0067ECD0>, <sqlalchemy.engine.result.ResultProxy object at 0x0000013F0067EE50>, <sqlalchemy.engine.result.ResultProxy object at 0x0000013F00517040>, <sqlalchemy.engine.result.ResultProxy object at 0x0000013F00517400>]\n"
     ]
    }
   ],
   "source": [
    "script_file = open(\"./sql_script/tables_init.sql\", \"rt\")\n",
    "results = db_handler.run_script(engine=data_engine, script_file=script_file)\n",
    "print(results)"
   ],
   "metadata": {
    "collapsed": false,
    "pycharm": {
     "name": "#%%\n"
    }
   }
  },
  {
   "cell_type": "code",
   "execution_count": 7,
   "outputs": [],
   "source": [
    "from db_setup import DataHandler\n",
    "\n",
    "dataset_handler = DataHandler.Dataset(path=f'./data/DataCoSupplyChainDataset.csv', delimiter=',', encoding='ISO-8859-1')\n",
    "# dataset_handler.print_pandas_tables()\n",
    "\n",
    "tables, table_dtypes, table_insertion_order = dataset_handler.get_tables()\n"
   ],
   "metadata": {
    "collapsed": false,
    "pycharm": {
     "name": "#%%\n"
    }
   }
  },
  {
   "cell_type": "markdown",
   "source": [
    "# Fill tables"
   ],
   "metadata": {
    "collapsed": false,
    "pycharm": {
     "name": "#%% md\n"
    }
   }
  },
  {
   "cell_type": "code",
   "execution_count": 8,
   "outputs": [
    {
     "name": "stdout",
     "output_type": "stream",
     "text": [
      "table_customer\n",
      "               fname      lname      email     passwd      segment\n",
      "customer_id                                                       \n",
      "1            Richard  Hernandez  XXXXXXXXX  XXXXXXXXX     Consumer\n",
      "2               Mary    Barrett  XXXXXXXXX  XXXXXXXXX     Consumer\n",
      "3                Ann      Smith  XXXXXXXXX  XXXXXXXXX     Consumer\n",
      "4               Mary      Jones  XXXXXXXXX  XXXXXXXXX     Consumer\n",
      "5             Robert     Hudson  XXXXXXXXX  XXXXXXXXX  Home Office\n",
      "6               Mary      Smith  XXXXXXXXX  XXXXXXXXX     Consumer\n",
      "7            Melissa     Wilcox  XXXXXXXXX  XXXXXXXXX    Corporate\n",
      "8              Megan      Smith  XXXXXXXXX  XXXXXXXXX    Corporate\n",
      "9               Mary      Perez  XXXXXXXXX  XXXXXXXXX     Consumer\n",
      "10           Melissa      Smith  XXXXXXXXX  XXXXXXXXX    Corporate\n",
      "table_customer_geo\n",
      "            customer_city customer_country customer_state  \\\n",
      "customer_id                                                 \n",
      "1             Brownsville          EE. UU.             TX   \n",
      "2               Littleton          EE. UU.             CO   \n",
      "3                  Caguas      Puerto Rico             PR   \n",
      "4              San Marcos          EE. UU.             CA   \n",
      "5                  Caguas      Puerto Rico             PR   \n",
      "6                 Passaic          EE. UU.             NJ   \n",
      "7                  Caguas      Puerto Rico             PR   \n",
      "8                Lawrence          EE. UU.             MA   \n",
      "9                  Caguas      Puerto Rico             PR   \n",
      "10               Stafford          EE. UU.             VA   \n",
      "\n",
      "                         customer_street  customer_zipcode  \n",
      "customer_id                                                 \n",
      "1                     6303 Heather Plaza           78521.0  \n",
      "2                9526 Noble Embers Ridge           80126.0  \n",
      "3                 3422 Blue Pioneer Bend             725.0  \n",
      "4                     8324 Little Common           92069.0  \n",
      "5                 10 Crystal River Mall              725.0  \n",
      "6            3151 Sleepy Quail Promenade            7055.0  \n",
      "7                   9453 High Concession             725.0  \n",
      "8                3047 Foggy Forest Plaza            1841.0  \n",
      "9                    3616 Quaking Street             725.0  \n",
      "10             8598 Harvest Beacon Plaza           22554.0  \n",
      "table_product_category\n",
      "                category_name\n",
      "category_id                  \n",
      "73             Sporting Goods\n",
      "17                     Cleats\n",
      "29              Shop By Sport\n",
      "24            Women's Apparel\n",
      "13                Electronics\n",
      "12               Boxing & MMA\n",
      "9            Cardio Equipment\n",
      "41                   Trade-In\n",
      "37                Electronics\n",
      "38           Kids' Golf Clubs\n",
      "table_product\n",
      "                                                     name  category_id  \\\n",
      "product_id                                                               \n",
      "19                Nike Men's Fingertrap Max Training Shoe            2   \n",
      "24                            Elevation Training Mask 2.0            2   \n",
      "35                adidas Brazuca 2014 Official Match Ball            3   \n",
      "37                  adidas Kids' F5 Messi FG Soccer Cleat            3   \n",
      "44             adidas Men's F10 Messi TRX FG Soccer Cleat            3   \n",
      "58          Diamondback Boys' Insight 24 Performance Hybr            4   \n",
      "60                                    SOLE E25 Elliptical            4   \n",
      "61          Diamondback Girls' Clarity 24 Hybrid Bike 201            4   \n",
      "78          Nike Kids' Grade School KD VI Basketball Shoe            5   \n",
      "93                     Under Armour Men's Tech II T-Shirt            5   \n",
      "\n",
      "                                                        image  product_price  \\\n",
      "product_id                                                                     \n",
      "19          http://images.acmesports.sports/Nike+Men%27s+F...     124.989998   \n",
      "24          http://images.acmesports.sports/Elevation+Trai...      79.989998   \n",
      "35          http://images.acmesports.sports/adidas+Brazuca...     159.990005   \n",
      "37          http://images.acmesports.sports/adidas+Kids%27...      34.990002   \n",
      "44          http://images.acmesports.sports/adidas+Men%27s...      59.990002   \n",
      "58          http://images.acmesports.sports/Diamondback+Bo...     299.989990   \n",
      "60          http://images.acmesports.sports/SOLE+E25+Ellip...     999.989990   \n",
      "61          http://images.acmesports.sports/Diamondback+Gi...     299.989990   \n",
      "78          http://images.acmesports.sports/Nike+Kids%27+G...      99.989998   \n",
      "93          http://images.acmesports.sports/Under+Armour+M...      24.990000   \n",
      "\n",
      "            product_status  \n",
      "product_id                  \n",
      "19                       0  \n",
      "24                       0  \n",
      "35                       0  \n",
      "37                       0  \n",
      "44                       0  \n",
      "58                       0  \n",
      "60                       0  \n",
      "61                       0  \n",
      "78                       0  \n",
      "93                       0  \n",
      "table_department\n",
      "              department_name        market\n",
      "department_id                              \n",
      "2                     Fitness  Pacific Asia\n",
      "3                    Footwear          USCA\n",
      "4                     Apparel  Pacific Asia\n",
      "5                        Golf  Pacific Asia\n",
      "6                    Outdoors        Africa\n",
      "7                    Fan Shop         LATAM\n",
      "8                   Book Shop        Europe\n",
      "9                  Discs Shop        Europe\n",
      "10                 Technology        Europe\n",
      "11                   Pet Shop  Pacific Asia\n",
      "table_orders\n",
      "          customer_id        order_date      type   delivery_status  \\\n",
      "order_id                                                              \n",
      "1               11599  2015-1-1 0:00:00      CASH  Advance shipping   \n",
      "2                 256  2015-1-1 0:21:00   PAYMENT  Advance shipping   \n",
      "4                8827  2015-1-1 1:03:00      CASH     Late delivery   \n",
      "5               11318  2015-1-1 1:24:00     DEBIT     Late delivery   \n",
      "7                4530  2015-1-1 2:06:00     DEBIT     Late delivery   \n",
      "8                2911  2015-1-1 2:27:00  TRANSFER  Shipping on time   \n",
      "9                5657  2015-1-1 2:48:00   PAYMENT     Late delivery   \n",
      "10               5648  2015-1-1 3:09:00   PAYMENT     Late delivery   \n",
      "11                918  2015-1-1 3:30:00   PAYMENT  Advance shipping   \n",
      "12               1837  2015-1-1 3:51:00      CASH  Advance shipping   \n",
      "\n",
      "          late_delivery_risk  order_item_total  order_profit_per_order  \\\n",
      "order_id                                                                 \n",
      "1                          0        239.979996               88.790001   \n",
      "2                          0        193.990005               91.180000   \n",
      "4                          1         40.980000                4.100000   \n",
      "5                          1        109.190002               34.939999   \n",
      "7                          1        251.979996              120.949997   \n",
      "8                          0        163.929993             -131.149994   \n",
      "9                          1        199.990005               96.000000   \n",
      "10                         1        110.489998               28.730000   \n",
      "11                         0         47.990002               16.799999   \n",
      "12                         0         87.000000               23.490000   \n",
      "\n",
      "          benefit_per_order  department_id  \n",
      "order_id                                    \n",
      "1                 88.790001              7  \n",
      "2                 91.180000              7  \n",
      "4                  4.100000              6  \n",
      "5                 34.939999              4  \n",
      "7                120.949997              7  \n",
      "8               -131.149994              7  \n",
      "9                 96.000000              7  \n",
      "10                28.730000              4  \n",
      "11                16.799999              4  \n",
      "12                23.490000              2  \n",
      "table_orders_geo\n",
      "                   city           region             state           status\n",
      "order_id                                                                   \n",
      "1           Mexico City  Central America  Distrito Federal           CLOSED\n",
      "2         Dos Quebradas    South America         Risaralda  PENDING_PAYMENT\n",
      "4         Dos Quebradas    South America         Risaralda           CLOSED\n",
      "5         Dos Quebradas    South America         Risaralda         COMPLETE\n",
      "7             São Paulo    South America         São Paulo         COMPLETE\n",
      "8             São Paulo    South America         São Paulo       PROCESSING\n",
      "9             São Paulo    South America         São Paulo  PENDING_PAYMENT\n",
      "10            São Paulo    South America         São Paulo  PENDING_PAYMENT\n",
      "11            São Paulo    South America         São Paulo   PAYMENT_REVIEW\n",
      "12              Managua  Central America           Managua           CLOSED\n",
      "table_order_item\n",
      "               order_id  product_id   discount  discount_rate  item_price  \\\n",
      "order_item_id                                                               \n",
      "180517            77202        1360  13.110000           0.04      327.75   \n",
      "179254            75939        1360  16.389999           0.05      327.75   \n",
      "179253            75938        1360  18.030001           0.06      327.75   \n",
      "179252            75937        1360  22.940001           0.07      327.75   \n",
      "179251            75936        1360  29.500000           0.09      327.75   \n",
      "179250            75935        1360  32.779999           0.10      327.75   \n",
      "179249            75934        1360  39.330002           0.12      327.75   \n",
      "179248            75933        1360  42.610001           0.13      327.75   \n",
      "179247            75932        1360  49.160000           0.15      327.75   \n",
      "179246            75931        1360  52.439999           0.16      327.75   \n",
      "\n",
      "               profit_ratio  quantity   sales  \n",
      "order_item_id                                  \n",
      "180517                 0.29         1  327.75  \n",
      "179254                -0.80         1  327.75  \n",
      "179253                -0.80         1  327.75  \n",
      "179252                 0.08         1  327.75  \n",
      "179251                 0.45         1  327.75  \n",
      "179250                 0.06         1  327.75  \n",
      "179249                 0.33         1  327.75  \n",
      "179248                 0.24         1  327.75  \n",
      "179247                 0.48         1  327.75  \n",
      "179246                 0.48         1  327.75  \n",
      "table_shipping\n",
      "               days_for_shipping_real  days_for_shipping_scheduled  \\\n",
      "order_item_id                                                        \n",
      "180517                              3                            4   \n",
      "179254                              5                            4   \n",
      "179253                              4                            4   \n",
      "179252                              3                            4   \n",
      "179251                              2                            4   \n",
      "179250                              6                            4   \n",
      "179249                              2                            1   \n",
      "179248                              2                            1   \n",
      "179247                              3                            2   \n",
      "179246                              2                            1   \n",
      "\n",
      "                    shipping_date            mode  \n",
      "order_item_id                                      \n",
      "180517          2018-2-3 22:56:00  Standard Class  \n",
      "179254         2018-1-18 12:27:00  Standard Class  \n",
      "179253         2018-1-17 12:06:00  Standard Class  \n",
      "179252         2018-1-16 11:45:00  Standard Class  \n",
      "179251         2018-1-15 11:24:00  Standard Class  \n",
      "179250         2018-1-19 11:03:00  Standard Class  \n",
      "179249         2018-1-15 10:42:00     First Class  \n",
      "179248         2018-1-15 10:21:00     First Class  \n",
      "179247         2018-1-16 10:00:00    Second Class  \n",
      "179246          2018-1-15 9:39:00     First Class  \n"
     ]
    }
   ],
   "source": [
    "# print(table_dtypes)\n",
    "\n",
    "for table_name in table_insertion_order:\n",
    "    print(table_name)\n",
    "    print(tables[table_name][:10])\n",
    "    dtype = dict(zip([tables[table_name].index.name] + tables[table_name].columns.tolist(), table_dtypes[table_name]))\n",
    "    db_handler.fill_table(df=tables[table_name], table_name=table_name[6:], engine=data_engine,\n",
    "                          schema=\"data_co_schema\", dtypes=dtype);"
   ],
   "metadata": {
    "collapsed": false,
    "pycharm": {
     "name": "#%%\n"
    }
   }
  }
 ],
 "metadata": {
  "kernelspec": {
   "display_name": "Python 3",
   "language": "python",
   "name": "python3"
  },
  "language_info": {
   "codemirror_mode": {
    "name": "ipython",
    "version": 2
   },
   "file_extension": ".py",
   "mimetype": "text/x-python",
   "name": "python",
   "nbconvert_exporter": "python",
   "pygments_lexer": "ipython2",
   "version": "2.7.6"
  }
 },
 "nbformat": 4,
 "nbformat_minor": 0
}
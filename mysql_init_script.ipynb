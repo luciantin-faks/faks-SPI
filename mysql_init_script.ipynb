{
 "cells": [
  {
   "cell_type": "code",
   "execution_count": 4,
   "metadata": {
    "collapsed": true
   },
   "outputs": [],
   "source": [
    "from db_setup import DbHandler"
   ]
  },
  {
   "cell_type": "markdown",
   "source": [
    "# Init Root with new passwd"
   ],
   "metadata": {
    "collapsed": false,
    "pycharm": {
     "name": "#%% md\n"
    }
   }
  },
  {
   "cell_type": "code",
   "execution_count": 5,
   "outputs": [],
   "source": [
    "db_handler = DbHandler.DbHandler(dbtype=\"mysql\", hostname=\"localhost\", port=\"3308\")"
   ],
   "metadata": {
    "collapsed": false,
    "pycharm": {
     "name": "#%%\n"
    }
   }
  },
  {
   "cell_type": "code",
   "execution_count": 6,
   "outputs": [],
   "source": [
    "root_engine = db_handler.create_engine(username=\"root\", password=\"4321\")\n",
    "\n",
    "script_file = open(\"./sql_script/alter_root.sql\", \"rt\")\n",
    "db_handler.run_script(engine=root_engine, script_file=script_file)\n",
    "\n",
    "root_engine = db_handler.create_engine(username=\"root\", password=\"1234\")"
   ],
   "metadata": {
    "collapsed": false,
    "pycharm": {
     "name": "#%%\n"
    }
   }
  },
  {
   "cell_type": "markdown",
   "source": [
    "# Create user \"data\" && tables"
   ],
   "metadata": {
    "collapsed": false
   }
  },
  {
   "cell_type": "code",
   "execution_count": 7,
   "outputs": [
    {
     "data": {
      "text/plain": "[<sqlalchemy.engine.result.ResultProxy at 0x21ab46986a0>,\n <sqlalchemy.engine.result.ResultProxy at 0x21ab4749790>,\n <sqlalchemy.engine.result.ResultProxy at 0x21ab4749be0>,\n <sqlalchemy.engine.result.ResultProxy at 0x21ab4749a90>,\n <sqlalchemy.engine.result.ResultProxy at 0x21ab4749eb0>,\n <sqlalchemy.engine.result.ResultProxy at 0x21ab4749a30>]"
     },
     "execution_count": 7,
     "metadata": {},
     "output_type": "execute_result"
    }
   ],
   "source": [
    "script_file = open(\"./sql_script/create_user_data.sql\", \"rt\")\n",
    "db_handler.run_script(engine=root_engine, script_file=script_file)"
   ],
   "metadata": {
    "collapsed": false,
    "pycharm": {
     "name": "#%%\n"
    }
   }
  },
  {
   "cell_type": "code",
   "execution_count": 8,
   "outputs": [],
   "source": [
    "data_engine = db_handler.create_engine(username=\"data\", password=\"1234\")"
   ],
   "metadata": {
    "collapsed": false,
    "pycharm": {
     "name": "#%%\n"
    }
   }
  },
  {
   "cell_type": "code",
   "execution_count": 9,
   "outputs": [
    {
     "name": "stdout",
     "output_type": "stream",
     "text": [
      "[<sqlalchemy.engine.result.ResultProxy object at 0x0000021AB475C460>, <sqlalchemy.engine.result.ResultProxy object at 0x0000021AB4765160>, <sqlalchemy.engine.result.ResultProxy object at 0x0000021AB4765550>, <sqlalchemy.engine.result.ResultProxy object at 0x0000021AB47656A0>, <sqlalchemy.engine.result.ResultProxy object at 0x0000021AB4765820>, <sqlalchemy.engine.result.ResultProxy object at 0x0000021AB47659A0>, <sqlalchemy.engine.result.ResultProxy object at 0x0000021AB4765B20>, <sqlalchemy.engine.result.ResultProxy object at 0x0000021AB4765CA0>, <sqlalchemy.engine.result.ResultProxy object at 0x0000021AB4765E20>, <sqlalchemy.engine.result.ResultProxy object at 0x0000021AB4765FA0>]\n"
     ]
    }
   ],
   "source": [
    "script_file = open(\"./sql_script/tables_init.sql\", \"rt\")\n",
    "results = db_handler.run_script(engine=data_engine, script_file=script_file)\n",
    "print(results)"
   ],
   "metadata": {
    "collapsed": false,
    "pycharm": {
     "name": "#%%\n"
    }
   }
  },
  {
   "cell_type": "code",
   "execution_count": 10,
   "outputs": [],
   "source": [
    "from db_setup import DataHandler\n",
    "\n",
    "dataset_handler = DataHandler.Dataset(path=f'./data/DataCoSupplyChainDataset.csv', delimiter=',', encoding='ISO-8859-1')\n",
    "# dataset_handler.print_pandas_tables()\n",
    "\n",
    "tables, table_dtypes, table_insertion_order = dataset_handler.get_tables()\n"
   ],
   "metadata": {
    "collapsed": false,
    "pycharm": {
     "name": "#%%\n"
    }
   }
  },
  {
   "cell_type": "markdown",
   "source": [
    "# Fill tables"
   ],
   "metadata": {
    "collapsed": false,
    "pycharm": {
     "name": "#%% md\n"
    }
   }
  },
  {
   "cell_type": "code",
   "execution_count": 11,
   "outputs": [
    {
     "name": "stdout",
     "output_type": "stream",
     "text": [
      "table_customer\n",
      "               fname      lname      email     passwd      segment\n",
      "customer_id                                                       \n",
      "1            Richard  Hernandez  XXXXXXXXX  XXXXXXXXX     Consumer\n",
      "2               Mary    Barrett  XXXXXXXXX  XXXXXXXXX     Consumer\n",
      "3                Ann      Smith  XXXXXXXXX  XXXXXXXXX     Consumer\n",
      "4               Mary      Jones  XXXXXXXXX  XXXXXXXXX     Consumer\n",
      "5             Robert     Hudson  XXXXXXXXX  XXXXXXXXX  Home Office\n",
      "6               Mary      Smith  XXXXXXXXX  XXXXXXXXX     Consumer\n",
      "7            Melissa     Wilcox  XXXXXXXXX  XXXXXXXXX    Corporate\n",
      "8              Megan      Smith  XXXXXXXXX  XXXXXXXXX    Corporate\n",
      "9               Mary      Perez  XXXXXXXXX  XXXXXXXXX     Consumer\n",
      "10           Melissa      Smith  XXXXXXXXX  XXXXXXXXX    Corporate\n",
      "table_customer_geo\n",
      "            customer_city customer_country customer_state  \\\n",
      "customer_id                                                 \n",
      "1             Brownsville          EE. UU.             TX   \n",
      "2               Littleton          EE. UU.             CO   \n",
      "3                  Caguas      Puerto Rico             PR   \n",
      "4              San Marcos          EE. UU.             CA   \n",
      "5                  Caguas      Puerto Rico             PR   \n",
      "6                 Passaic          EE. UU.             NJ   \n",
      "7                  Caguas      Puerto Rico             PR   \n",
      "8                Lawrence          EE. UU.             MA   \n",
      "9                  Caguas      Puerto Rico             PR   \n",
      "10               Stafford          EE. UU.             VA   \n",
      "\n",
      "                         customer_street  customer_zipcode  \n",
      "customer_id                                                 \n",
      "1                     6303 Heather Plaza           78521.0  \n",
      "2                9526 Noble Embers Ridge           80126.0  \n",
      "3                 3422 Blue Pioneer Bend             725.0  \n",
      "4                     8324 Little Common           92069.0  \n",
      "5                 10 Crystal River Mall              725.0  \n",
      "6            3151 Sleepy Quail Promenade            7055.0  \n",
      "7                   9453 High Concession             725.0  \n",
      "8                3047 Foggy Forest Plaza            1841.0  \n",
      "9                    3616 Quaking Street             725.0  \n",
      "10             8598 Harvest Beacon Plaza           22554.0  \n",
      "table_product_category\n",
      "                category_name\n",
      "category_id                  \n",
      "73             Sporting Goods\n",
      "17                     Cleats\n",
      "29              Shop By Sport\n",
      "24            Women's Apparel\n",
      "13                Electronics\n",
      "12               Boxing & MMA\n",
      "9            Cardio Equipment\n",
      "41                   Trade-In\n",
      "37                Electronics\n",
      "38           Kids' Golf Clubs\n",
      "table_product\n",
      "                                                     name  category_id  \\\n",
      "product_id                                                               \n",
      "19                Nike Men's Fingertrap Max Training Shoe            2   \n",
      "24                            Elevation Training Mask 2.0            2   \n",
      "35                adidas Brazuca 2014 Official Match Ball            3   \n",
      "37                  adidas Kids' F5 Messi FG Soccer Cleat            3   \n",
      "44             adidas Men's F10 Messi TRX FG Soccer Cleat            3   \n",
      "58          Diamondback Boys' Insight 24 Performance Hybr            4   \n",
      "60                                    SOLE E25 Elliptical            4   \n",
      "61          Diamondback Girls' Clarity 24 Hybrid Bike 201            4   \n",
      "78          Nike Kids' Grade School KD VI Basketball Shoe            5   \n",
      "93                     Under Armour Men's Tech II T-Shirt            5   \n",
      "\n",
      "                                                        image  product_price  \\\n",
      "product_id                                                                     \n",
      "19          http://images.acmesports.sports/Nike+Men%27s+F...     124.989998   \n",
      "24          http://images.acmesports.sports/Elevation+Trai...      79.989998   \n",
      "35          http://images.acmesports.sports/adidas+Brazuca...     159.990005   \n",
      "37          http://images.acmesports.sports/adidas+Kids%27...      34.990002   \n",
      "44          http://images.acmesports.sports/adidas+Men%27s...      59.990002   \n",
      "58          http://images.acmesports.sports/Diamondback+Bo...     299.989990   \n",
      "60          http://images.acmesports.sports/SOLE+E25+Ellip...     999.989990   \n",
      "61          http://images.acmesports.sports/Diamondback+Gi...     299.989990   \n",
      "78          http://images.acmesports.sports/Nike+Kids%27+G...      99.989998   \n",
      "93          http://images.acmesports.sports/Under+Armour+M...      24.990000   \n",
      "\n",
      "            product_status  \n",
      "product_id                  \n",
      "19                       0  \n",
      "24                       0  \n",
      "35                       0  \n",
      "37                       0  \n",
      "44                       0  \n",
      "58                       0  \n",
      "60                       0  \n",
      "61                       0  \n",
      "78                       0  \n",
      "93                       0  \n",
      "table_department\n",
      "              department_name        market\n",
      "department_id                              \n",
      "2                     Fitness  Pacific Asia\n",
      "3                    Footwear          USCA\n",
      "4                     Apparel  Pacific Asia\n",
      "5                        Golf  Pacific Asia\n",
      "6                    Outdoors        Africa\n",
      "7                    Fan Shop         LATAM\n",
      "8                   Book Shop        Europe\n",
      "9                  Discs Shop        Europe\n",
      "10                 Technology        Europe\n",
      "11                   Pet Shop  Pacific Asia\n",
      "table_orders\n",
      "          customer_id        order_date      type   delivery_status  \\\n",
      "order_id                                                              \n",
      "1               11599  2015-1-1 0:00:00      CASH  Advance shipping   \n",
      "2                 256  2015-1-1 0:21:00   PAYMENT  Advance shipping   \n",
      "4                8827  2015-1-1 1:03:00      CASH     Late delivery   \n",
      "5               11318  2015-1-1 1:24:00     DEBIT     Late delivery   \n",
      "7                4530  2015-1-1 2:06:00     DEBIT     Late delivery   \n",
      "8                2911  2015-1-1 2:27:00  TRANSFER  Shipping on time   \n",
      "9                5657  2015-1-1 2:48:00   PAYMENT     Late delivery   \n",
      "10               5648  2015-1-1 3:09:00   PAYMENT     Late delivery   \n",
      "11                918  2015-1-1 3:30:00   PAYMENT  Advance shipping   \n",
      "12               1837  2015-1-1 3:51:00      CASH  Advance shipping   \n",
      "\n",
      "          late_delivery_risk  order_item_total  order_profit_per_order  \\\n",
      "order_id                                                                 \n",
      "1                          0        239.979996               88.790001   \n",
      "2                          0        193.990005               91.180000   \n",
      "4                          1         40.980000                4.100000   \n",
      "5                          1        109.190002               34.939999   \n",
      "7                          1        251.979996              120.949997   \n",
      "8                          0        163.929993             -131.149994   \n",
      "9                          1        199.990005               96.000000   \n",
      "10                         1        110.489998               28.730000   \n",
      "11                         0         47.990002               16.799999   \n",
      "12                         0         87.000000               23.490000   \n",
      "\n",
      "          benefit_per_order  department_id  \n",
      "order_id                                    \n",
      "1                 88.790001              7  \n",
      "2                 91.180000              7  \n",
      "4                  4.100000              6  \n",
      "5                 34.939999              4  \n",
      "7                120.949997              7  \n",
      "8               -131.149994              7  \n",
      "9                 96.000000              7  \n",
      "10                28.730000              4  \n",
      "11                16.799999              4  \n",
      "12                23.490000              2  \n",
      "table_orders_geo\n",
      "                   city           region             state           status\n",
      "order_id                                                                   \n",
      "1           Mexico City  Central America  Distrito Federal           CLOSED\n",
      "2         Dos Quebradas    South America         Risaralda  PENDING_PAYMENT\n",
      "4         Dos Quebradas    South America         Risaralda           CLOSED\n",
      "5         Dos Quebradas    South America         Risaralda         COMPLETE\n",
      "7             São Paulo    South America         São Paulo         COMPLETE\n",
      "8             São Paulo    South America         São Paulo       PROCESSING\n",
      "9             São Paulo    South America         São Paulo  PENDING_PAYMENT\n",
      "10            São Paulo    South America         São Paulo  PENDING_PAYMENT\n",
      "11            São Paulo    South America         São Paulo   PAYMENT_REVIEW\n",
      "12              Managua  Central America           Managua           CLOSED\n",
      "table_order_item\n",
      "               order_id  product_id   discount  discount_rate  item_price  \\\n",
      "order_item_id                                                               \n",
      "180517            77202        1360  13.110000           0.04      327.75   \n",
      "179254            75939        1360  16.389999           0.05      327.75   \n",
      "179253            75938        1360  18.030001           0.06      327.75   \n",
      "179252            75937        1360  22.940001           0.07      327.75   \n",
      "179251            75936        1360  29.500000           0.09      327.75   \n",
      "179250            75935        1360  32.779999           0.10      327.75   \n",
      "179249            75934        1360  39.330002           0.12      327.75   \n",
      "179248            75933        1360  42.610001           0.13      327.75   \n",
      "179247            75932        1360  49.160000           0.15      327.75   \n",
      "179246            75931        1360  52.439999           0.16      327.75   \n",
      "\n",
      "               profit_ratio  quantity   sales  \n",
      "order_item_id                                  \n",
      "180517                 0.29         1  327.75  \n",
      "179254                -0.80         1  327.75  \n",
      "179253                -0.80         1  327.75  \n",
      "179252                 0.08         1  327.75  \n",
      "179251                 0.45         1  327.75  \n",
      "179250                 0.06         1  327.75  \n",
      "179249                 0.33         1  327.75  \n",
      "179248                 0.24         1  327.75  \n",
      "179247                 0.48         1  327.75  \n",
      "179246                 0.48         1  327.75  \n",
      "table_shipping\n",
      "               days_for_shipping_real  days_for_shipping_scheduled  \\\n",
      "order_item_id                                                        \n",
      "180517                              3                            4   \n",
      "179254                              5                            4   \n",
      "179253                              4                            4   \n",
      "179252                              3                            4   \n",
      "179251                              2                            4   \n",
      "179250                              6                            4   \n",
      "179249                              2                            1   \n",
      "179248                              2                            1   \n",
      "179247                              3                            2   \n",
      "179246                              2                            1   \n",
      "\n",
      "                    shipping_date            mode  \n",
      "order_item_id                                      \n",
      "180517          2018-2-3 22:56:00  Standard Class  \n",
      "179254         2018-1-18 12:27:00  Standard Class  \n",
      "179253         2018-1-17 12:06:00  Standard Class  \n",
      "179252         2018-1-16 11:45:00  Standard Class  \n",
      "179251         2018-1-15 11:24:00  Standard Class  \n",
      "179250         2018-1-19 11:03:00  Standard Class  \n",
      "179249         2018-1-15 10:42:00     First Class  \n",
      "179248         2018-1-15 10:21:00     First Class  \n",
      "179247         2018-1-16 10:00:00    Second Class  \n",
      "179246          2018-1-15 9:39:00     First Class  \n"
     ]
    }
   ],
   "source": [
    "# print(table_dtypes)\n",
    "\n",
    "for table_name in table_insertion_order:\n",
    "    print(table_name)\n",
    "    print(tables[table_name][:10])\n",
    "    dtype = dict(zip([tables[table_name].index.name] + tables[table_name].columns.tolist(), table_dtypes[table_name]))\n",
    "    db_handler.fill_table(df=tables[table_name], table_name=table_name[6:], engine=data_engine,\n",
    "                          schema=\"data_co_schema\", dtypes=dtype);"
   ],
   "metadata": {
    "collapsed": false,
    "pycharm": {
     "name": "#%%\n"
    }
   }
  }
 ],
 "metadata": {
  "kernelspec": {
   "display_name": "Python 3",
   "language": "python",
   "name": "python3"
  },
  "language_info": {
   "codemirror_mode": {
    "name": "ipython",
    "version": 2
   },
   "file_extension": ".py",
   "mimetype": "text/x-python",
   "name": "python",
   "nbconvert_exporter": "python",
   "pygments_lexer": "ipython2",
   "version": "2.7.6"
  }
 },
 "nbformat": 4,
 "nbformat_minor": 0
}
{
 "cells": [
  {
   "cell_type": "code",
   "execution_count": 15,
   "outputs": [],
   "source": [
    "import plantuml\n",
    "from IPython.display import SVG, display\n",
    "import requests\n",
    "\n",
    "\n",
    "def show_plant(txt):\n",
    "    plnt_txt = plantuml.deflate_and_encode(txt)\n",
    "    uri = \"http://www.plantuml.com/plantuml/svg/\" + plnt_txt\n",
    "    htmldata = requests.get(uri)\n",
    "    svg_txt = htmldata.text\n",
    "    style_idx = svg_txt.find(\"style=\") + len(\"style=\") + 1\n",
    "    svg_txt = svg_txt[:style_idx]+\"background-color: white;\"+svg_txt[style_idx:]\n",
    "    display(SVG(svg_txt))"
   ],
   "metadata": {
    "collapsed": false,
    "pycharm": {
     "name": "#%%\n"
    }
   }
  },
  {
   "cell_type": "code",
   "execution_count": 52,
   "outputs": [
    {
     "data": {
      "text/plain": "<IPython.core.display.SVG object>",
      "image/svg+xml": "<svg xmlns=\"http://www.w3.org/2000/svg\" xmlns:xlink=\"http://www.w3.org/1999/xlink\" contentScriptType=\"application/ecmascript\" contentStyleType=\"text/css\" height=\"420px\" preserveAspectRatio=\"none\" style=\"background-color: white;width:1119px;height:420px;\" version=\"1.1\" viewBox=\"0 0 1119 420\" width=\"1119px\" zoomAndPan=\"magnify\"><defs><filter height=\"300%\" id=\"fndbt28edfw7l\" width=\"300%\" x=\"-1\" y=\"-1\"><feGaussianBlur result=\"blurOut\" stdDeviation=\"2.0\"/><feColorMatrix in=\"blurOut\" result=\"blurOut2\" type=\"matrix\" values=\"0 0 0 0 0 0 0 0 0 0 0 0 0 0 0 0 0 0 .4 0\"/><feOffset dx=\"4.0\" dy=\"4.0\" in=\"blurOut2\" result=\"blurOut3\"/><feBlend in=\"SourceGraphic\" in2=\"blurOut3\" mode=\"normal\"/></filter></defs><g><text fill=\"#000000\" font-family=\"sans-serif\" font-size=\"18\" lengthAdjust=\"spacing\" textLength=\"18\" x=\"548.25\" y=\"28.708\">...</text><line style=\"stroke:#A80036;stroke-width:1.0;stroke-dasharray:5.0,5.0;\" x1=\"36\" x2=\"36\" y1=\"75.25\" y2=\"377.4453\"/><line style=\"stroke:#A80036;stroke-width:1.0;stroke-dasharray:5.0,5.0;\" x1=\"168\" x2=\"168\" y1=\"75.25\" y2=\"377.4453\"/><line style=\"stroke:#A80036;stroke-width:1.0;stroke-dasharray:5.0,5.0;\" x1=\"370\" x2=\"370\" y1=\"75.25\" y2=\"377.4453\"/><line style=\"stroke:#A80036;stroke-width:1.0;stroke-dasharray:5.0,5.0;\" x1=\"696\" x2=\"696\" y1=\"75.25\" y2=\"377.4453\"/><line style=\"stroke:#A80036;stroke-width:1.0;stroke-dasharray:5.0,5.0;\" x1=\"873\" x2=\"873\" y1=\"75.25\" y2=\"377.4453\"/><line style=\"stroke:#A80036;stroke-width:1.0;stroke-dasharray:5.0,5.0;\" x1=\"1038.5\" x2=\"1038.5\" y1=\"75.25\" y2=\"377.4453\"/><rect fill=\"#FEFECE\" filter=\"url(#fndbt28edfw7l)\" height=\"30.2969\" style=\"stroke:#A80036;stroke-width:1.5;\" width=\"58\" x=\"5\" y=\"39.9531\"/><text fill=\"#000000\" font-family=\"sans-serif\" font-size=\"14\" lengthAdjust=\"spacing\" textLength=\"44\" x=\"12\" y=\"59.9482\">Drone</text><rect fill=\"#FEFECE\" filter=\"url(#fndbt28edfw7l)\" height=\"30.2969\" style=\"stroke:#A80036;stroke-width:1.5;\" width=\"58\" x=\"5\" y=\"376.4453\"/><text fill=\"#000000\" font-family=\"sans-serif\" font-size=\"14\" lengthAdjust=\"spacing\" textLength=\"44\" x=\"12\" y=\"396.4404\">Drone</text><rect fill=\"#FEFECE\" filter=\"url(#fndbt28edfw7l)\" height=\"30.2969\" style=\"stroke:#A80036;stroke-width:1.5;\" width=\"179\" x=\"77\" y=\"39.9531\"/><text fill=\"#000000\" font-family=\"sans-serif\" font-size=\"14\" lengthAdjust=\"spacing\" textLength=\"165\" x=\"84\" y=\"59.9482\">RegisterDroneChKafka</text><rect fill=\"#FEFECE\" filter=\"url(#fndbt28edfw7l)\" height=\"30.2969\" style=\"stroke:#A80036;stroke-width:1.5;\" width=\"179\" x=\"77\" y=\"376.4453\"/><text fill=\"#000000\" font-family=\"sans-serif\" font-size=\"14\" lengthAdjust=\"spacing\" textLength=\"165\" x=\"84\" y=\"396.4404\">RegisterDroneChKafka</text><rect fill=\"#FEFECE\" filter=\"url(#fndbt28edfw7l)\" height=\"30.2969\" style=\"stroke:#A80036;stroke-width:1.5;\" width=\"197\" x=\"270\" y=\"39.9531\"/><text fill=\"#000000\" font-family=\"sans-serif\" font-size=\"14\" lengthAdjust=\"spacing\" textLength=\"183\" x=\"277\" y=\"59.9482\">InstanceMasterController</text><rect fill=\"#FEFECE\" filter=\"url(#fndbt28edfw7l)\" height=\"30.2969\" style=\"stroke:#A80036;stroke-width:1.5;\" width=\"197\" x=\"270\" y=\"376.4453\"/><text fill=\"#000000\" font-family=\"sans-serif\" font-size=\"14\" lengthAdjust=\"spacing\" textLength=\"183\" x=\"277\" y=\"396.4404\">InstanceMasterController</text><rect fill=\"#FEFECE\" filter=\"url(#fndbt28edfw7l)\" height=\"30.2969\" style=\"stroke:#A80036;stroke-width:1.5;\" width=\"179\" x=\"605\" y=\"39.9531\"/><text fill=\"#000000\" font-family=\"sans-serif\" font-size=\"14\" lengthAdjust=\"spacing\" textLength=\"165\" x=\"612\" y=\"59.9482\">DroneSwarmController</text><rect fill=\"#FEFECE\" filter=\"url(#fndbt28edfw7l)\" height=\"30.2969\" style=\"stroke:#A80036;stroke-width:1.5;\" width=\"179\" x=\"605\" y=\"376.4453\"/><text fill=\"#000000\" font-family=\"sans-serif\" font-size=\"14\" lengthAdjust=\"spacing\" textLength=\"165\" x=\"612\" y=\"396.4404\">DroneSwarmController</text><rect fill=\"#FEFECE\" filter=\"url(#fndbt28edfw7l)\" height=\"30.2969\" style=\"stroke:#A80036;stroke-width:1.5;\" width=\"147\" x=\"798\" y=\"39.9531\"/><text fill=\"#000000\" font-family=\"sans-serif\" font-size=\"14\" lengthAdjust=\"spacing\" textLength=\"133\" x=\"805\" y=\"59.9482\">DroneDataHandler</text><rect fill=\"#FEFECE\" filter=\"url(#fndbt28edfw7l)\" height=\"30.2969\" style=\"stroke:#A80036;stroke-width:1.5;\" width=\"147\" x=\"798\" y=\"376.4453\"/><text fill=\"#000000\" font-family=\"sans-serif\" font-size=\"14\" lengthAdjust=\"spacing\" textLength=\"133\" x=\"805\" y=\"396.4404\">DroneDataHandler</text><rect fill=\"#FEFECE\" filter=\"url(#fndbt28edfw7l)\" height=\"30.2969\" style=\"stroke:#A80036;stroke-width:1.5;\" width=\"138\" x=\"967.5\" y=\"39.9531\"/><text fill=\"#000000\" font-family=\"sans-serif\" font-size=\"14\" lengthAdjust=\"spacing\" textLength=\"124\" x=\"974.5\" y=\"59.9482\">DroneIdOutKafka</text><rect fill=\"#FEFECE\" filter=\"url(#fndbt28edfw7l)\" height=\"30.2969\" style=\"stroke:#A80036;stroke-width:1.5;\" width=\"138\" x=\"967.5\" y=\"376.4453\"/><text fill=\"#000000\" font-family=\"sans-serif\" font-size=\"14\" lengthAdjust=\"spacing\" textLength=\"124\" x=\"974.5\" y=\"396.4404\">DroneIdOutKafka</text><polygon fill=\"#A80036\" points=\"156.5,102.3828,166.5,106.3828,156.5,110.3828,160.5,106.3828\" style=\"stroke:#A80036;stroke-width:1.0;\"/><line style=\"stroke:#A80036;stroke-width:1.0;\" x1=\"36\" x2=\"162.5\" y1=\"106.3828\" y2=\"106.3828\"/><text fill=\"#000000\" font-family=\"sans-serif\" font-size=\"13\" lengthAdjust=\"spacing\" textLength=\"87\" x=\"43\" y=\"101.3169\">Push init data</text><path d=\"M41,119.3828 L41,144.3828 L262,144.3828 L262,129.3828 L252,119.3828 L41,119.3828 \" fill=\"#FBFB77\" filter=\"url(#fndbt28edfw7l)\" style=\"stroke:#A80036;stroke-width:1.0;\"/><path d=\"M252,119.3828 L252,129.3828 L262,129.3828 L252,119.3828 \" fill=\"#FBFB77\" style=\"stroke:#A80036;stroke-width:1.0;\"/><text fill=\"#000000\" font-family=\"sans-serif\" font-size=\"13\" lengthAdjust=\"spacing\" textLength=\"200\" x=\"47\" y=\"136.4497\">video/img url, current pos,  etc.</text><polygon fill=\"#A80036\" points=\"358.5,170.6484,368.5,174.6484,358.5,178.6484,362.5,174.6484\" style=\"stroke:#A80036;stroke-width:1.0;\"/><line style=\"stroke:#A80036;stroke-width:1.0;\" x1=\"168.5\" x2=\"364.5\" y1=\"174.6484\" y2=\"174.6484\"/><text fill=\"#000000\" font-family=\"sans-serif\" font-size=\"13\" lengthAdjust=\"spacing\" textLength=\"106\" x=\"175.5\" y=\"169.5825\">Pull &amp;&amp; Evaluate</text><polygon fill=\"#A80036\" points=\"47,199.7813,37,203.7813,47,207.7813,43,203.7813\" style=\"stroke:#A80036;stroke-width:1.0;\"/><line style=\"stroke:#A80036;stroke-width:1.0;\" x1=\"41\" x2=\"369.5\" y1=\"203.7813\" y2=\"203.7813\"/><text fill=\"#000000\" font-family=\"sans-serif\" font-size=\"13\" lengthAdjust=\"spacing\" textLength=\"57\" x=\"53\" y=\"198.7153\">Assign Id</text><polygon fill=\"#A80036\" points=\"684.5,228.9141,694.5,232.9141,684.5,236.9141,688.5,232.9141\" style=\"stroke:#A80036;stroke-width:1.0;\"/><line style=\"stroke:#A80036;stroke-width:1.0;\" x1=\"370.5\" x2=\"690.5\" y1=\"232.9141\" y2=\"232.9141\"/><text fill=\"#000000\" font-family=\"sans-serif\" font-size=\"13\" lengthAdjust=\"spacing\" textLength=\"302\" x=\"377.5\" y=\"227.8481\">Assign a Swarm Controller to the new Drone ID</text><path d=\"M375,245.9141 L375,270.9141 L639,270.9141 L639,255.9141 L629,245.9141 L375,245.9141 \" fill=\"#FBFB77\" filter=\"url(#fndbt28edfw7l)\" style=\"stroke:#A80036;stroke-width:1.0;\"/><path d=\"M629,245.9141 L629,255.9141 L639,255.9141 L629,245.9141 \" fill=\"#FBFB77\" style=\"stroke:#A80036;stroke-width:1.0;\"/><text fill=\"#000000\" font-family=\"sans-serif\" font-size=\"13\" lengthAdjust=\"spacing\" textLength=\"243\" x=\"381\" y=\"262.981\">And create kafka ch. for new drone ID</text><polygon fill=\"#A80036\" points=\"861.5,297.1797,871.5,301.1797,861.5,305.1797,865.5,301.1797\" style=\"stroke:#A80036;stroke-width:1.0;\"/><line style=\"stroke:#A80036;stroke-width:1.0;\" x1=\"696.5\" x2=\"867.5\" y1=\"301.1797\" y2=\"301.1797\"/><text fill=\"#000000\" font-family=\"sans-serif\" font-size=\"13\" lengthAdjust=\"spacing\" textLength=\"112\" x=\"703.5\" y=\"296.1138\">Add video/img url</text><polygon fill=\"#A80036\" points=\"1026.5,326.3125,1036.5,330.3125,1026.5,334.3125,1030.5,330.3125\" style=\"stroke:#A80036;stroke-width:1.0;\"/><line style=\"stroke:#A80036;stroke-width:1.0;\" x1=\"36\" x2=\"1032.5\" y1=\"330.3125\" y2=\"330.3125\"/><text fill=\"#000000\" font-family=\"sans-serif\" font-size=\"13\" lengthAdjust=\"spacing\" textLength=\"111\" x=\"43\" y=\"325.2466\">Push sensor data</text><polygon fill=\"#A80036\" points=\"884.5,355.4453,874.5,359.4453,884.5,363.4453,880.5,359.4453\" style=\"stroke:#A80036;stroke-width:1.0;\"/><line style=\"stroke:#A80036;stroke-width:1.0;\" x1=\"878.5\" x2=\"1037.5\" y1=\"359.4453\" y2=\"359.4453\"/><text fill=\"#000000\" font-family=\"sans-serif\" font-size=\"13\" lengthAdjust=\"spacing\" textLength=\"141\" x=\"890.5\" y=\"354.3794\">Consume sensor data</text><!--MD5=[43e9ad4545be2ae651a5a9aa6968877d]\n@startuml\ntitle ...\n\nDrone->RegisterDroneChKafka: Push init data\nnote right of Drone: video/img url, current pos,  etc.\nRegisterDroneChKafka->InstanceMasterController: Pull && Evaluate\nInstanceMasterController->Drone: Assign Id\nInstanceMasterController->DroneSwarmController: Assign a Swarm Controller to the new Drone ID\nnote right of InstanceMasterController: And create kafka ch. for new drone ID\nDroneSwarmController->DroneDataHandler: Add video/img url\nDrone->DroneIdOutKafka: Push sensor data\nDroneIdOutKafka->DroneDataHandler: Consume sensor data\n@enduml\n\nPlantUML version 1.2021.2(Sun Mar 07 11:10:27 UTC 2021)\n(GPL source distribution)\nJava Runtime: Java(TM) SE Runtime Environment\nJVM: Java HotSpot(TM) 64-Bit Server VM\nDefault Encoding: UTF-8\nLanguage: en\nCountry: US\n--></g></svg>"
     },
     "metadata": {},
     "output_type": "display_data"
    }
   ],
   "source": [
    "txt = \"\"\"\n",
    "title ...\n",
    "\n",
    "Drone->RegisterDroneChKafka: Push init data\n",
    "note right of Drone: video/img url, current pos,  etc.\n",
    "RegisterDroneChKafka->InstanceMasterController: Pull && Evaluate\n",
    "InstanceMasterController->Drone: Assign Id\n",
    "InstanceMasterController->DroneSwarmController: Assign a Swarm Controller to the new Drone ID\n",
    "note right of InstanceMasterController: And create kafka ch. for new drone ID\n",
    "DroneSwarmController->DroneDataHandler: Add video/img url\n",
    "Drone->DroneIdOutKafka: Push sensor data\n",
    "DroneIdOutKafka->DroneDataHandler: Consume sensor data\n",
    " \"\"\"\n",
    "\n",
    "# note right of Bob: Bob thinks about it\n",
    "# Bob->Alice: Authentication Response\n",
    "# Alice->Bob: Authentication Request\n",
    "# Bob->Alice: Authentication Response\n",
    "# RegisterChKafka -> InstanceAddrCntr: Evaluate\n",
    "# Dron->RegisterChKafka: Register3\n",
    "\n",
    "\n",
    "show_plant(txt)\n",
    "\n",
    "\n",
    "\n"
   ],
   "metadata": {
    "collapsed": false,
    "pycharm": {
     "name": "#%%\n"
    }
   }
  }
 ],
 "metadata": {
  "kernelspec": {
   "display_name": "Python 3",
   "language": "python",
   "name": "python3"
  },
  "language_info": {
   "codemirror_mode": {
    "name": "ipython",
    "version": 2
   },
   "file_extension": ".py",
   "mimetype": "text/x-python",
   "name": "python",
   "nbconvert_exporter": "python",
   "pygments_lexer": "ipython2",
   "version": "2.7.6"
  }
 },
 "nbformat": 4,
 "nbformat_minor": 0
}